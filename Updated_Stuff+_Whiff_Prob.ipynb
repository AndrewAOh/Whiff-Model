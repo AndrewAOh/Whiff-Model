{
  "nbformat": 4,
  "nbformat_minor": 0,
  "metadata": {
    "colab": {
      "provenance": [],
      "gpuType": "L4"
    },
    "kernelspec": {
      "name": "python3",
      "display_name": "Python 3"
    },
    "language_info": {
      "name": "python"
    },
    "accelerator": "GPU"
  },
  "cells": [
    {
      "cell_type": "code",
      "execution_count": null,
      "metadata": {
        "colab": {
          "base_uri": "https://localhost:8080/"
        },
        "id": "BL9NtaFrxFBc",
        "outputId": "2478144d-caac-40b9-f409-21dcd6641ee6"
      },
      "outputs": [
        {
          "output_type": "stream",
          "name": "stdout",
          "text": [
            "Mounted at /content/drive\n"
          ]
        }
      ],
      "source": [
        "from google.colab import drive\n",
        "drive.mount('/content/drive')"
      ]
    },
    {
      "cell_type": "markdown",
      "source": [
        "# Read in the Data"
      ],
      "metadata": {
        "id": "lCzuzI33ySwn"
      }
    },
    {
      "cell_type": "code",
      "source": [
        "import pandas as pd\n",
        "import glob\n",
        "import os\n",
        "import numpy as np\n",
        "\n",
        "# Full NCAA Dataset - 48 sec\n",
        "df = pd.read_csv(\"/content/drive/MyDrive/USC Baseball/Datasets/Updated22_23_NCAA_Dataset.csv\")"
      ],
      "metadata": {
        "colab": {
          "base_uri": "https://localhost:8080/"
        },
        "id": "6J456Uw3xg-U",
        "outputId": "73af2358-d69e-4004-c474-e050f712d8c7"
      },
      "execution_count": null,
      "outputs": [
        {
          "output_type": "stream",
          "name": "stderr",
          "text": [
            "<ipython-input-2-7e143f33715e>:7: DtypeWarning: Columns (27,92,93,94) have mixed types. Specify dtype option on import or set low_memory=False.\n",
            "  df = pd.read_csv(\"/content/drive/MyDrive/USC Baseball/Datasets/Updated22_23_NCAA_Dataset.csv\")\n"
          ]
        }
      ]
    },
    {
      "cell_type": "markdown",
      "source": [
        "# Clean up the data + Create Buckets\n"
      ],
      "metadata": {
        "id": "oJdoL6CUyVTY"
      }
    },
    {
      "cell_type": "code",
      "execution_count": null,
      "metadata": {
        "id": "4L08ZxvEU_17"
      },
      "outputs": [],
      "source": [
        "#This will ignore all DeprecationWarning warnings in your code.\n",
        "import warnings\n",
        "warnings.filterwarnings(\"ignore\", category=DeprecationWarning)"
      ]
    },
    {
      "cell_type": "code",
      "execution_count": null,
      "metadata": {
        "id": "pkf9j2mhXYfl"
      },
      "outputs": [],
      "source": [
        "cleandf = df[df['TaggedPitchType'].str.contains(\"Undefined|Other|,\") == False]\n",
        "cleanD1 = cleandf[cleandf['Level'] == \"D1\"]"
      ]
    },
    {
      "cell_type": "code",
      "source": [
        "cleanConf = cleanD1[cleanD1['League'].isin([\"SEC\", \"BIG12\", \"BIG10\", \"ACC\", \"PAC12\", \"CUSA\", \"SBELT\", \"AMER\"])]"
      ],
      "metadata": {
        "id": "oVJWhexDE2xa"
      },
      "execution_count": null,
      "outputs": []
    },
    {
      "cell_type": "code",
      "source": [
        "# Reclassifies pitch type buckets\n",
        "conditions = [\n",
        "    (cleanConf['TaggedPitchType'].str.contains('Fastball|FourSeamFastBall|TwoSeamFastBall|OneSeamFastBall|Sinker')),  # Fastballs\n",
        "    (cleanConf['TaggedPitchType'].str.contains('Slider|Cutter|Curveball')),  # Breaking Balls\n",
        "    (cleanConf['TaggedPitchType'].str.contains('ChangeUp|Splitter|Knuckleball')),  # Offspeed\n",
        "]\n",
        "\n",
        "# creates a list of values\n",
        "values = [1, 2, 3]\n",
        "# creates new column determining hit or not and assign values to it based on the conditions\n",
        "cleanConf['PitchBucket'] = np.select(conditions, values, default = 4)"
      ],
      "metadata": {
        "colab": {
          "base_uri": "https://localhost:8080/"
        },
        "id": "hOTG6_HQyQpv",
        "outputId": "d1ff3e39-a728-4b51-9065-835a48a1a4c3"
      },
      "execution_count": null,
      "outputs": [
        {
          "output_type": "stream",
          "name": "stderr",
          "text": [
            "<ipython-input-6-7b1c0ce79f90>:11: SettingWithCopyWarning: \n",
            "A value is trying to be set on a copy of a slice from a DataFrame.\n",
            "Try using .loc[row_indexer,col_indexer] = value instead\n",
            "\n",
            "See the caveats in the documentation: https://pandas.pydata.org/pandas-docs/stable/user_guide/indexing.html#returning-a-view-versus-a-copy\n",
            "  cleanConf['PitchBucket'] = np.select(conditions, values, default = 4)\n"
          ]
        }
      ]
    },
    {
      "cell_type": "code",
      "source": [
        "cleanConf['PitchBucket'].value_counts()"
      ],
      "metadata": {
        "colab": {
          "base_uri": "https://localhost:8080/",
          "height": 210
        },
        "id": "O4kitE6G13_y",
        "outputId": "43aaa092-549e-49c7-ddea-c7adbf747b66"
      },
      "execution_count": null,
      "outputs": [
        {
          "output_type": "execute_result",
          "data": {
            "text/plain": [
              "PitchBucket\n",
              "1    1001439\n",
              "2     576786\n",
              "3     213075\n",
              "Name: count, dtype: int64"
            ],
            "text/html": [
              "<table border=\"1\" class=\"dataframe\">\n",
              "  <thead>\n",
              "    <tr style=\"text-align: right;\">\n",
              "      <th></th>\n",
              "      <th>count</th>\n",
              "    </tr>\n",
              "    <tr>\n",
              "      <th>PitchBucket</th>\n",
              "      <th></th>\n",
              "    </tr>\n",
              "  </thead>\n",
              "  <tbody>\n",
              "    <tr>\n",
              "      <th>1</th>\n",
              "      <td>1001439</td>\n",
              "    </tr>\n",
              "    <tr>\n",
              "      <th>2</th>\n",
              "      <td>576786</td>\n",
              "    </tr>\n",
              "    <tr>\n",
              "      <th>3</th>\n",
              "      <td>213075</td>\n",
              "    </tr>\n",
              "  </tbody>\n",
              "</table><br><label><b>dtype:</b> int64</label>"
            ]
          },
          "metadata": {},
          "execution_count": 7
        }
      ]
    },
    {
      "cell_type": "code",
      "source": [
        "# Recodes Pitch Handedness to binary variable\n",
        "\n",
        "conditions = [\n",
        "    (cleanConf['PitcherThrows'] == 'Right'),  # RHP\n",
        "    (cleanConf['PitcherThrows'] == 'Left')  # LHP\n",
        "]\n",
        "\n",
        "# creates a list of values to assign for pitch handedness where RHP = 1 & LHP = 0\n",
        "values = [0, 1]\n",
        "# creates new column determining pitch hand\n",
        "cleanConf['PitcherHand'] = np.select(conditions, values)"
      ],
      "metadata": {
        "colab": {
          "base_uri": "https://localhost:8080/"
        },
        "id": "mJoGK06Sze-t",
        "outputId": "d801fb49-e307-4aca-c823-2e179c911537"
      },
      "execution_count": null,
      "outputs": [
        {
          "output_type": "stream",
          "name": "stderr",
          "text": [
            "<ipython-input-8-783810b04da9>:11: SettingWithCopyWarning: \n",
            "A value is trying to be set on a copy of a slice from a DataFrame.\n",
            "Try using .loc[row_indexer,col_indexer] = value instead\n",
            "\n",
            "See the caveats in the documentation: https://pandas.pydata.org/pandas-docs/stable/user_guide/indexing.html#returning-a-view-versus-a-copy\n",
            "  cleanConf['PitcherHand'] = np.select(conditions, values)\n"
          ]
        }
      ]
    },
    {
      "cell_type": "code",
      "source": [
        "cleanConf['PitcherHand'].value_counts()"
      ],
      "metadata": {
        "colab": {
          "base_uri": "https://localhost:8080/",
          "height": 178
        },
        "id": "CHYhabSM2ybE",
        "outputId": "0c988f81-023c-4505-c209-11cfd0f13796"
      },
      "execution_count": null,
      "outputs": [
        {
          "output_type": "execute_result",
          "data": {
            "text/plain": [
              "PitcherHand\n",
              "0    1290893\n",
              "1     500407\n",
              "Name: count, dtype: int64"
            ],
            "text/html": [
              "<table border=\"1\" class=\"dataframe\">\n",
              "  <thead>\n",
              "    <tr style=\"text-align: right;\">\n",
              "      <th></th>\n",
              "      <th>count</th>\n",
              "    </tr>\n",
              "    <tr>\n",
              "      <th>PitcherHand</th>\n",
              "      <th></th>\n",
              "    </tr>\n",
              "  </thead>\n",
              "  <tbody>\n",
              "    <tr>\n",
              "      <th>0</th>\n",
              "      <td>1290893</td>\n",
              "    </tr>\n",
              "    <tr>\n",
              "      <th>1</th>\n",
              "      <td>500407</td>\n",
              "    </tr>\n",
              "  </tbody>\n",
              "</table><br><label><b>dtype:</b> int64</label>"
            ]
          },
          "metadata": {},
          "execution_count": 9
        }
      ]
    },
    {
      "cell_type": "code",
      "source": [
        "conditions = [\n",
        "    (cleanConf['PitchCall'] != 'StrikeSwinging'),  # Whiff\n",
        "    (cleanConf['PitchCall'] == 'StrikeSwinging')  # Not Whiff\n",
        "]\n",
        "\n",
        "# creates a list of values to assign for pitch handedness where RHP = 1 & LHP = 0\n",
        "values = [0, 1]\n",
        "# creates new column determining pitch hand\n",
        "cleanConf['isWhiff'] = np.select(conditions, values)"
      ],
      "metadata": {
        "colab": {
          "base_uri": "https://localhost:8080/"
        },
        "id": "zExjAVVO6Lvj",
        "outputId": "56f26ad1-bbaf-44cd-eb04-a26fbba82426"
      },
      "execution_count": null,
      "outputs": [
        {
          "output_type": "stream",
          "name": "stderr",
          "text": [
            "<ipython-input-10-4888637904f7>:9: SettingWithCopyWarning: \n",
            "A value is trying to be set on a copy of a slice from a DataFrame.\n",
            "Try using .loc[row_indexer,col_indexer] = value instead\n",
            "\n",
            "See the caveats in the documentation: https://pandas.pydata.org/pandas-docs/stable/user_guide/indexing.html#returning-a-view-versus-a-copy\n",
            "  cleanConf['isWhiff'] = np.select(conditions, values)\n"
          ]
        }
      ]
    },
    {
      "cell_type": "code",
      "source": [
        "cleanConf['isWhiff'].value_counts()"
      ],
      "metadata": {
        "colab": {
          "base_uri": "https://localhost:8080/",
          "height": 178
        },
        "id": "nbx8ftaD84QK",
        "outputId": "70d3e2ff-6f07-4099-8e32-f5bd6b31d886"
      },
      "execution_count": null,
      "outputs": [
        {
          "output_type": "execute_result",
          "data": {
            "text/plain": [
              "isWhiff\n",
              "0    1599860\n",
              "1     191440\n",
              "Name: count, dtype: int64"
            ],
            "text/html": [
              "<table border=\"1\" class=\"dataframe\">\n",
              "  <thead>\n",
              "    <tr style=\"text-align: right;\">\n",
              "      <th></th>\n",
              "      <th>count</th>\n",
              "    </tr>\n",
              "    <tr>\n",
              "      <th>isWhiff</th>\n",
              "      <th></th>\n",
              "    </tr>\n",
              "  </thead>\n",
              "  <tbody>\n",
              "    <tr>\n",
              "      <th>0</th>\n",
              "      <td>1599860</td>\n",
              "    </tr>\n",
              "    <tr>\n",
              "      <th>1</th>\n",
              "      <td>191440</td>\n",
              "    </tr>\n",
              "  </tbody>\n",
              "</table><br><label><b>dtype:</b> int64</label>"
            ]
          },
          "metadata": {},
          "execution_count": 11
        }
      ]
    },
    {
      "cell_type": "code",
      "source": [
        "cleanConf['SpinAxisRad'] = cleanConf['SpinAxis'] * (np.pi / 180)"
      ],
      "metadata": {
        "colab": {
          "base_uri": "https://localhost:8080/"
        },
        "id": "FSoG1MqCWqv_",
        "outputId": "d61b7b90-d8ac-4fdf-8245-34128ea5c3bf"
      },
      "execution_count": null,
      "outputs": [
        {
          "output_type": "stream",
          "name": "stderr",
          "text": [
            "<ipython-input-12-d40f482f83ad>:1: SettingWithCopyWarning: \n",
            "A value is trying to be set on a copy of a slice from a DataFrame.\n",
            "Try using .loc[row_indexer,col_indexer] = value instead\n",
            "\n",
            "See the caveats in the documentation: https://pandas.pydata.org/pandas-docs/stable/user_guide/indexing.html#returning-a-view-versus-a-copy\n",
            "  cleanConf['SpinAxisRad'] = cleanConf['SpinAxis'] * (np.pi / 180)\n"
          ]
        }
      ]
    },
    {
      "cell_type": "code",
      "source": [
        "cleanConf['TSM'] = cleanConf['SpinRate']*np.sin(cleanConf['SpinAxisRad'])\n",
        "cleanConf['G'] = cleanConf['SpinRate']*np.cos(cleanConf['SpinAxisRad'])\n",
        "cleanConf['SpinEfficiency'] = ((cleanConf['TSM']+cleanConf['G'])/cleanConf['SpinRate'])*100"
      ],
      "metadata": {
        "colab": {
          "base_uri": "https://localhost:8080/"
        },
        "id": "YjlwUWtZXscn",
        "outputId": "acbf0c6c-45ab-41b7-924f-47fd2d12c8aa"
      },
      "execution_count": null,
      "outputs": [
        {
          "output_type": "stream",
          "name": "stderr",
          "text": [
            "<ipython-input-25-e3435536d871>:1: SettingWithCopyWarning: \n",
            "A value is trying to be set on a copy of a slice from a DataFrame.\n",
            "Try using .loc[row_indexer,col_indexer] = value instead\n",
            "\n",
            "See the caveats in the documentation: https://pandas.pydata.org/pandas-docs/stable/user_guide/indexing.html#returning-a-view-versus-a-copy\n",
            "  cleanConf['TSM'] = cleanConf['SpinRate']*np.sin(cleanConf['SpinAxisRad'])\n",
            "<ipython-input-25-e3435536d871>:2: SettingWithCopyWarning: \n",
            "A value is trying to be set on a copy of a slice from a DataFrame.\n",
            "Try using .loc[row_indexer,col_indexer] = value instead\n",
            "\n",
            "See the caveats in the documentation: https://pandas.pydata.org/pandas-docs/stable/user_guide/indexing.html#returning-a-view-versus-a-copy\n",
            "  cleanConf['G'] = cleanConf['SpinRate']*np.cos(cleanConf['SpinAxisRad'])\n",
            "<ipython-input-25-e3435536d871>:3: SettingWithCopyWarning: \n",
            "A value is trying to be set on a copy of a slice from a DataFrame.\n",
            "Try using .loc[row_indexer,col_indexer] = value instead\n",
            "\n",
            "See the caveats in the documentation: https://pandas.pydata.org/pandas-docs/stable/user_guide/indexing.html#returning-a-view-versus-a-copy\n",
            "  cleanConf['SpinEfficiency'] = ((cleanConf['TSM']+cleanConf['G'])/cleanConf['SpinRate'])*100\n"
          ]
        }
      ]
    },
    {
      "cell_type": "code",
      "source": [
        "print(cleanConf['SpinEfficiency'].describe())"
      ],
      "metadata": {
        "colab": {
          "base_uri": "https://localhost:8080/"
        },
        "id": "X8rjO9hhYmqZ",
        "outputId": "86f1365c-579c-4712-f27b-e95e13676c2a"
      },
      "execution_count": null,
      "outputs": [
        {
          "output_type": "stream",
          "name": "stdout",
          "text": [
            "count    1.777704e+06\n",
            "mean    -4.788563e+01\n",
            "std      9.928350e+01\n",
            "min     -1.414214e+02\n",
            "25%     -1.353242e+02\n",
            "50%     -9.647552e+01\n",
            "75%      3.082508e+01\n",
            "max      1.414214e+02\n",
            "Name: SpinEfficiency, dtype: float64\n"
          ]
        }
      ]
    },
    {
      "cell_type": "code",
      "source": [
        "cleanConf['NormalizedSpinEfficiency'] = (np.abs(cleanConf['SpinEfficiency']))"
      ],
      "metadata": {
        "colab": {
          "base_uri": "https://localhost:8080/"
        },
        "id": "t3cMUqU_gv2n",
        "outputId": "aad46862-b0a7-4035-ebb3-51186c8d4c07"
      },
      "execution_count": null,
      "outputs": [
        {
          "output_type": "stream",
          "name": "stderr",
          "text": [
            "<ipython-input-27-517187e8e63a>:1: SettingWithCopyWarning: \n",
            "A value is trying to be set on a copy of a slice from a DataFrame.\n",
            "Try using .loc[row_indexer,col_indexer] = value instead\n",
            "\n",
            "See the caveats in the documentation: https://pandas.pydata.org/pandas-docs/stable/user_guide/indexing.html#returning-a-view-versus-a-copy\n",
            "  cleanConf['NormalizedSpinEfficiency'] = (np.abs(cleanConf['SpinEfficiency']))\n"
          ]
        }
      ]
    },
    {
      "cell_type": "code",
      "source": [
        "print(cleanConf['NormalizedSpinEfficiency'].describe())"
      ],
      "metadata": {
        "colab": {
          "base_uri": "https://localhost:8080/"
        },
        "id": "mB8C1Zysg-kv",
        "outputId": "2574418c-ecec-4778-c2ed-624b0fc9a5eb"
      },
      "execution_count": null,
      "outputs": [
        {
          "output_type": "stream",
          "name": "stdout",
          "text": [
            "count    1.777704e+06\n",
            "mean     1.006566e+02\n",
            "std      4.492762e+01\n",
            "min      2.221441e-04\n",
            "25%      6.448470e+01\n",
            "50%      1.234364e+02\n",
            "75%      1.375631e+02\n",
            "max      1.414214e+02\n",
            "Name: NormalizedSpinEfficiency, dtype: float64\n"
          ]
        }
      ]
    },
    {
      "cell_type": "code",
      "source": [
        "spinColf = cleanConf[['TaggedPitchType', 'RelSpeed', 'SpinRate', 'SpinAxis', 'InducedVertBreak', 'HorzBreak', 'SpinAxisRad', 'TSM', 'G', 'SpinEfficiency']]"
      ],
      "metadata": {
        "id": "m3bN7tRglJEk"
      },
      "execution_count": null,
      "outputs": []
    },
    {
      "cell_type": "code",
      "source": [
        "spinColf.head()"
      ],
      "metadata": {
        "colab": {
          "base_uri": "https://localhost:8080/",
          "height": 226
        },
        "id": "YFCUBWh1Ymtg",
        "outputId": "18be3fff-66da-4400-8098-b6491284a8be"
      },
      "execution_count": null,
      "outputs": [
        {
          "output_type": "execute_result",
          "data": {
            "text/plain": [
              "  TaggedPitchType  RelSpeed     SpinRate    SpinAxis  InducedVertBreak  \\\n",
              "0        Fastball  99.52724  2694.881660  228.580072          16.74166   \n",
              "1        Fastball  99.97207  2591.952252  230.378430          14.54879   \n",
              "2       Curveball  82.98675  2868.547909   61.314872          -3.63477   \n",
              "3          Slider  86.45521  2809.630437  126.013235           7.70886   \n",
              "4       Curveball  82.26110  2939.165899   60.441938          -5.50744   \n",
              "\n",
              "   HorzBreak  SpinAxisRad          TSM            G  SpinEfficiency  \n",
              "0   17.86536     3.989475 -2020.840592 -1782.860192     -141.145373  \n",
              "1   16.43906     4.020862 -1996.511404 -1652.924285     -140.798724  \n",
              "2   -9.01126     1.070146  2516.493272  1376.890961      135.726659  \n",
              "3   -9.07776     2.199346  2272.657233 -1651.984350       22.090908  \n",
              "4  -12.05288     1.054911  2556.651799  1449.906122      136.316154  "
            ],
            "text/html": [
              "\n",
              "  <div id=\"df-44127c65-9749-461f-98c2-2ec63d1d3cdc\" class=\"colab-df-container\">\n",
              "    <div>\n",
              "<style scoped>\n",
              "    .dataframe tbody tr th:only-of-type {\n",
              "        vertical-align: middle;\n",
              "    }\n",
              "\n",
              "    .dataframe tbody tr th {\n",
              "        vertical-align: top;\n",
              "    }\n",
              "\n",
              "    .dataframe thead th {\n",
              "        text-align: right;\n",
              "    }\n",
              "</style>\n",
              "<table border=\"1\" class=\"dataframe\">\n",
              "  <thead>\n",
              "    <tr style=\"text-align: right;\">\n",
              "      <th></th>\n",
              "      <th>TaggedPitchType</th>\n",
              "      <th>RelSpeed</th>\n",
              "      <th>SpinRate</th>\n",
              "      <th>SpinAxis</th>\n",
              "      <th>InducedVertBreak</th>\n",
              "      <th>HorzBreak</th>\n",
              "      <th>SpinAxisRad</th>\n",
              "      <th>TSM</th>\n",
              "      <th>G</th>\n",
              "      <th>SpinEfficiency</th>\n",
              "    </tr>\n",
              "  </thead>\n",
              "  <tbody>\n",
              "    <tr>\n",
              "      <th>0</th>\n",
              "      <td>Fastball</td>\n",
              "      <td>99.52724</td>\n",
              "      <td>2694.881660</td>\n",
              "      <td>228.580072</td>\n",
              "      <td>16.74166</td>\n",
              "      <td>17.86536</td>\n",
              "      <td>3.989475</td>\n",
              "      <td>-2020.840592</td>\n",
              "      <td>-1782.860192</td>\n",
              "      <td>-141.145373</td>\n",
              "    </tr>\n",
              "    <tr>\n",
              "      <th>1</th>\n",
              "      <td>Fastball</td>\n",
              "      <td>99.97207</td>\n",
              "      <td>2591.952252</td>\n",
              "      <td>230.378430</td>\n",
              "      <td>14.54879</td>\n",
              "      <td>16.43906</td>\n",
              "      <td>4.020862</td>\n",
              "      <td>-1996.511404</td>\n",
              "      <td>-1652.924285</td>\n",
              "      <td>-140.798724</td>\n",
              "    </tr>\n",
              "    <tr>\n",
              "      <th>2</th>\n",
              "      <td>Curveball</td>\n",
              "      <td>82.98675</td>\n",
              "      <td>2868.547909</td>\n",
              "      <td>61.314872</td>\n",
              "      <td>-3.63477</td>\n",
              "      <td>-9.01126</td>\n",
              "      <td>1.070146</td>\n",
              "      <td>2516.493272</td>\n",
              "      <td>1376.890961</td>\n",
              "      <td>135.726659</td>\n",
              "    </tr>\n",
              "    <tr>\n",
              "      <th>3</th>\n",
              "      <td>Slider</td>\n",
              "      <td>86.45521</td>\n",
              "      <td>2809.630437</td>\n",
              "      <td>126.013235</td>\n",
              "      <td>7.70886</td>\n",
              "      <td>-9.07776</td>\n",
              "      <td>2.199346</td>\n",
              "      <td>2272.657233</td>\n",
              "      <td>-1651.984350</td>\n",
              "      <td>22.090908</td>\n",
              "    </tr>\n",
              "    <tr>\n",
              "      <th>4</th>\n",
              "      <td>Curveball</td>\n",
              "      <td>82.26110</td>\n",
              "      <td>2939.165899</td>\n",
              "      <td>60.441938</td>\n",
              "      <td>-5.50744</td>\n",
              "      <td>-12.05288</td>\n",
              "      <td>1.054911</td>\n",
              "      <td>2556.651799</td>\n",
              "      <td>1449.906122</td>\n",
              "      <td>136.316154</td>\n",
              "    </tr>\n",
              "  </tbody>\n",
              "</table>\n",
              "</div>\n",
              "    <div class=\"colab-df-buttons\">\n",
              "\n",
              "  <div class=\"colab-df-container\">\n",
              "    <button class=\"colab-df-convert\" onclick=\"convertToInteractive('df-44127c65-9749-461f-98c2-2ec63d1d3cdc')\"\n",
              "            title=\"Convert this dataframe to an interactive table.\"\n",
              "            style=\"display:none;\">\n",
              "\n",
              "  <svg xmlns=\"http://www.w3.org/2000/svg\" height=\"24px\" viewBox=\"0 -960 960 960\">\n",
              "    <path d=\"M120-120v-720h720v720H120Zm60-500h600v-160H180v160Zm220 220h160v-160H400v160Zm0 220h160v-160H400v160ZM180-400h160v-160H180v160Zm440 0h160v-160H620v160ZM180-180h160v-160H180v160Zm440 0h160v-160H620v160Z\"/>\n",
              "  </svg>\n",
              "    </button>\n",
              "\n",
              "  <style>\n",
              "    .colab-df-container {\n",
              "      display:flex;\n",
              "      gap: 12px;\n",
              "    }\n",
              "\n",
              "    .colab-df-convert {\n",
              "      background-color: #E8F0FE;\n",
              "      border: none;\n",
              "      border-radius: 50%;\n",
              "      cursor: pointer;\n",
              "      display: none;\n",
              "      fill: #1967D2;\n",
              "      height: 32px;\n",
              "      padding: 0 0 0 0;\n",
              "      width: 32px;\n",
              "    }\n",
              "\n",
              "    .colab-df-convert:hover {\n",
              "      background-color: #E2EBFA;\n",
              "      box-shadow: 0px 1px 2px rgba(60, 64, 67, 0.3), 0px 1px 3px 1px rgba(60, 64, 67, 0.15);\n",
              "      fill: #174EA6;\n",
              "    }\n",
              "\n",
              "    .colab-df-buttons div {\n",
              "      margin-bottom: 4px;\n",
              "    }\n",
              "\n",
              "    [theme=dark] .colab-df-convert {\n",
              "      background-color: #3B4455;\n",
              "      fill: #D2E3FC;\n",
              "    }\n",
              "\n",
              "    [theme=dark] .colab-df-convert:hover {\n",
              "      background-color: #434B5C;\n",
              "      box-shadow: 0px 1px 3px 1px rgba(0, 0, 0, 0.15);\n",
              "      filter: drop-shadow(0px 1px 2px rgba(0, 0, 0, 0.3));\n",
              "      fill: #FFFFFF;\n",
              "    }\n",
              "  </style>\n",
              "\n",
              "    <script>\n",
              "      const buttonEl =\n",
              "        document.querySelector('#df-44127c65-9749-461f-98c2-2ec63d1d3cdc button.colab-df-convert');\n",
              "      buttonEl.style.display =\n",
              "        google.colab.kernel.accessAllowed ? 'block' : 'none';\n",
              "\n",
              "      async function convertToInteractive(key) {\n",
              "        const element = document.querySelector('#df-44127c65-9749-461f-98c2-2ec63d1d3cdc');\n",
              "        const dataTable =\n",
              "          await google.colab.kernel.invokeFunction('convertToInteractive',\n",
              "                                                    [key], {});\n",
              "        if (!dataTable) return;\n",
              "\n",
              "        const docLinkHtml = 'Like what you see? Visit the ' +\n",
              "          '<a target=\"_blank\" href=https://colab.research.google.com/notebooks/data_table.ipynb>data table notebook</a>'\n",
              "          + ' to learn more about interactive tables.';\n",
              "        element.innerHTML = '';\n",
              "        dataTable['output_type'] = 'display_data';\n",
              "        await google.colab.output.renderOutput(dataTable, element);\n",
              "        const docLink = document.createElement('div');\n",
              "        docLink.innerHTML = docLinkHtml;\n",
              "        element.appendChild(docLink);\n",
              "      }\n",
              "    </script>\n",
              "  </div>\n",
              "\n",
              "\n",
              "<div id=\"df-678db919-c745-4dc5-b391-456b6ab5b781\">\n",
              "  <button class=\"colab-df-quickchart\" onclick=\"quickchart('df-678db919-c745-4dc5-b391-456b6ab5b781')\"\n",
              "            title=\"Suggest charts\"\n",
              "            style=\"display:none;\">\n",
              "\n",
              "<svg xmlns=\"http://www.w3.org/2000/svg\" height=\"24px\"viewBox=\"0 0 24 24\"\n",
              "     width=\"24px\">\n",
              "    <g>\n",
              "        <path d=\"M19 3H5c-1.1 0-2 .9-2 2v14c0 1.1.9 2 2 2h14c1.1 0 2-.9 2-2V5c0-1.1-.9-2-2-2zM9 17H7v-7h2v7zm4 0h-2V7h2v10zm4 0h-2v-4h2v4z\"/>\n",
              "    </g>\n",
              "</svg>\n",
              "  </button>\n",
              "\n",
              "<style>\n",
              "  .colab-df-quickchart {\n",
              "      --bg-color: #E8F0FE;\n",
              "      --fill-color: #1967D2;\n",
              "      --hover-bg-color: #E2EBFA;\n",
              "      --hover-fill-color: #174EA6;\n",
              "      --disabled-fill-color: #AAA;\n",
              "      --disabled-bg-color: #DDD;\n",
              "  }\n",
              "\n",
              "  [theme=dark] .colab-df-quickchart {\n",
              "      --bg-color: #3B4455;\n",
              "      --fill-color: #D2E3FC;\n",
              "      --hover-bg-color: #434B5C;\n",
              "      --hover-fill-color: #FFFFFF;\n",
              "      --disabled-bg-color: #3B4455;\n",
              "      --disabled-fill-color: #666;\n",
              "  }\n",
              "\n",
              "  .colab-df-quickchart {\n",
              "    background-color: var(--bg-color);\n",
              "    border: none;\n",
              "    border-radius: 50%;\n",
              "    cursor: pointer;\n",
              "    display: none;\n",
              "    fill: var(--fill-color);\n",
              "    height: 32px;\n",
              "    padding: 0;\n",
              "    width: 32px;\n",
              "  }\n",
              "\n",
              "  .colab-df-quickchart:hover {\n",
              "    background-color: var(--hover-bg-color);\n",
              "    box-shadow: 0 1px 2px rgba(60, 64, 67, 0.3), 0 1px 3px 1px rgba(60, 64, 67, 0.15);\n",
              "    fill: var(--button-hover-fill-color);\n",
              "  }\n",
              "\n",
              "  .colab-df-quickchart-complete:disabled,\n",
              "  .colab-df-quickchart-complete:disabled:hover {\n",
              "    background-color: var(--disabled-bg-color);\n",
              "    fill: var(--disabled-fill-color);\n",
              "    box-shadow: none;\n",
              "  }\n",
              "\n",
              "  .colab-df-spinner {\n",
              "    border: 2px solid var(--fill-color);\n",
              "    border-color: transparent;\n",
              "    border-bottom-color: var(--fill-color);\n",
              "    animation:\n",
              "      spin 1s steps(1) infinite;\n",
              "  }\n",
              "\n",
              "  @keyframes spin {\n",
              "    0% {\n",
              "      border-color: transparent;\n",
              "      border-bottom-color: var(--fill-color);\n",
              "      border-left-color: var(--fill-color);\n",
              "    }\n",
              "    20% {\n",
              "      border-color: transparent;\n",
              "      border-left-color: var(--fill-color);\n",
              "      border-top-color: var(--fill-color);\n",
              "    }\n",
              "    30% {\n",
              "      border-color: transparent;\n",
              "      border-left-color: var(--fill-color);\n",
              "      border-top-color: var(--fill-color);\n",
              "      border-right-color: var(--fill-color);\n",
              "    }\n",
              "    40% {\n",
              "      border-color: transparent;\n",
              "      border-right-color: var(--fill-color);\n",
              "      border-top-color: var(--fill-color);\n",
              "    }\n",
              "    60% {\n",
              "      border-color: transparent;\n",
              "      border-right-color: var(--fill-color);\n",
              "    }\n",
              "    80% {\n",
              "      border-color: transparent;\n",
              "      border-right-color: var(--fill-color);\n",
              "      border-bottom-color: var(--fill-color);\n",
              "    }\n",
              "    90% {\n",
              "      border-color: transparent;\n",
              "      border-bottom-color: var(--fill-color);\n",
              "    }\n",
              "  }\n",
              "</style>\n",
              "\n",
              "  <script>\n",
              "    async function quickchart(key) {\n",
              "      const quickchartButtonEl =\n",
              "        document.querySelector('#' + key + ' button');\n",
              "      quickchartButtonEl.disabled = true;  // To prevent multiple clicks.\n",
              "      quickchartButtonEl.classList.add('colab-df-spinner');\n",
              "      try {\n",
              "        const charts = await google.colab.kernel.invokeFunction(\n",
              "            'suggestCharts', [key], {});\n",
              "      } catch (error) {\n",
              "        console.error('Error during call to suggestCharts:', error);\n",
              "      }\n",
              "      quickchartButtonEl.classList.remove('colab-df-spinner');\n",
              "      quickchartButtonEl.classList.add('colab-df-quickchart-complete');\n",
              "    }\n",
              "    (() => {\n",
              "      let quickchartButtonEl =\n",
              "        document.querySelector('#df-678db919-c745-4dc5-b391-456b6ab5b781 button');\n",
              "      quickchartButtonEl.style.display =\n",
              "        google.colab.kernel.accessAllowed ? 'block' : 'none';\n",
              "    })();\n",
              "  </script>\n",
              "</div>\n",
              "\n",
              "    </div>\n",
              "  </div>\n"
            ],
            "application/vnd.google.colaboratory.intrinsic+json": {
              "type": "dataframe",
              "variable_name": "spinColf"
            }
          },
          "metadata": {},
          "execution_count": 32
        }
      ]
    },
    {
      "cell_type": "code",
      "source": [
        "swingDataset = cleanConf[cleanConf['PitchCall'].isin(['InPlay', 'StrikeSwinging', 'FoulBall', 'FoulBallNotFieldable'])]"
      ],
      "metadata": {
        "id": "swhtQH2BFdJD"
      },
      "execution_count": null,
      "outputs": []
    },
    {
      "cell_type": "code",
      "source": [
        "print(\"Clean Conference size: \" + str(len(cleanConf)))\n",
        "print(\"Swing Dataset size: \" + str(len(swingDataset)))"
      ],
      "metadata": {
        "colab": {
          "base_uri": "https://localhost:8080/"
        },
        "id": "Wl42RWYYF4dP",
        "outputId": "8944aa18-6214-4257-809f-69fd121d8126"
      },
      "execution_count": null,
      "outputs": [
        {
          "output_type": "stream",
          "name": "stdout",
          "text": [
            "Clean Conference size: 1791300\n",
            "Swing Dataset size: 774807\n"
          ]
        }
      ]
    },
    {
      "cell_type": "markdown",
      "source": [
        "# Determine Important Variables"
      ],
      "metadata": {
        "id": "kuF1HZTYzuD_"
      }
    },
    {
      "cell_type": "markdown",
      "source": [
        "Determine if multicollinearity exists within pitching variables\n"
      ],
      "metadata": {
        "id": "5glWM2Abz32V"
      }
    },
    {
      "cell_type": "code",
      "source": [
        "multiCollinDF = cleanConf[['isWhiff', 'PitchBucket', 'PitcherHand', 'RelSpeed', 'SpinRate', 'InducedVertBreak', 'HorzBreak', 'SpinAxis', 'RelHeight', 'RelSide', 'Extension', 'ZoneSpeed', 'EffectiveVelo', 'SpeedDrop', 'pfxx', 'pfxz', 'VertApprAngle', 'HorzApprAngle']].dropna()\n",
        "multiCollinDF.corr()"
      ],
      "metadata": {
        "colab": {
          "base_uri": "https://localhost:8080/",
          "height": 634
        },
        "id": "bW0KWKIwzxAE",
        "outputId": "1237c984-03af-4863-a4c0-451747b17ce5"
      },
      "execution_count": null,
      "outputs": [
        {
          "output_type": "execute_result",
          "data": {
            "text/plain": [
              "                   isWhiff  PitchBucket  PitcherHand  RelSpeed  SpinRate  \\\n",
              "isWhiff           1.000000     0.093343     0.003586 -0.039120  0.014628   \n",
              "PitchBucket       0.093343     1.000000     0.004624 -0.695334 -0.245902   \n",
              "PitcherHand       0.003586     0.004624     1.000000 -0.116627 -0.086647   \n",
              "RelSpeed         -0.039120    -0.695334    -0.116627  1.000000  0.066475   \n",
              "SpinRate          0.014628    -0.245902    -0.086647  0.066475  1.000000   \n",
              "InducedVertBreak -0.042654    -0.547556     0.023906  0.716134 -0.149148   \n",
              "HorzBreak        -0.022979    -0.134422    -0.448525  0.289880 -0.139666   \n",
              "SpinAxis         -0.018408    -0.132801    -0.030696  0.257144 -0.198824   \n",
              "RelHeight         0.001544    -0.080542    -0.039442  0.151843  0.024109   \n",
              "RelSide          -0.004036     0.007622    -0.904429  0.088253  0.078591   \n",
              "Extension        -0.012853    -0.179765    -0.031161  0.295483 -0.192318   \n",
              "ZoneSpeed        -0.037220    -0.676723    -0.122078  0.988388  0.074411   \n",
              "EffectiveVelo    -0.038924    -0.680270    -0.116357  0.986808  0.036478   \n",
              "SpeedDrop        -0.032847    -0.508560    -0.042724  0.656133  0.000371   \n",
              "pfxx              0.021934     0.127693     0.516145 -0.285758  0.124347   \n",
              "pfxz             -0.039482    -0.544023     0.018949  0.722530 -0.146886   \n",
              "VertApprAngle    -0.063317    -0.562087    -0.004058  0.677450 -0.056256   \n",
              "HorzApprAngle    -0.016779    -0.086414     0.608695  0.082468 -0.177924   \n",
              "\n",
              "                  InducedVertBreak  HorzBreak  SpinAxis  RelHeight   RelSide  \\\n",
              "isWhiff                  -0.042654  -0.022979 -0.018408   0.001544 -0.004036   \n",
              "PitchBucket              -0.547556  -0.134422 -0.132801  -0.080542  0.007622   \n",
              "PitcherHand               0.023906  -0.448525 -0.030696  -0.039442 -0.904429   \n",
              "RelSpeed                  0.716134   0.289880  0.257144   0.151843  0.088253   \n",
              "SpinRate                 -0.149148  -0.139666 -0.198824   0.024109  0.078591   \n",
              "InducedVertBreak          1.000000   0.210095  0.269118   0.207981 -0.051081   \n",
              "HorzBreak                 0.210095   1.000000  0.795557  -0.024149  0.430431   \n",
              "SpinAxis                  0.269118   0.795557  1.000000  -0.060448  0.052655   \n",
              "RelHeight                 0.207981  -0.024149 -0.060448   1.000000 -0.055143   \n",
              "RelSide                  -0.051081   0.430431  0.052655  -0.055143  1.000000   \n",
              "Extension                 0.339514   0.122156  0.131352  -0.006634  0.011479   \n",
              "ZoneSpeed                 0.684607   0.282632  0.247539   0.166514  0.091892   \n",
              "EffectiveVelo             0.719693   0.290051  0.260467   0.146077  0.085355   \n",
              "SpeedDrop                 0.585153   0.209481  0.201590   0.018012  0.034743   \n",
              "pfxx                     -0.196623  -0.995104 -0.763328   0.027350 -0.504893   \n",
              "pfxz                      0.997211   0.211584  0.267081   0.237565 -0.049904   \n",
              "VertApprAngle             0.736063   0.199722  0.237688  -0.132446  0.010106   \n",
              "HorzApprAngle             0.170180   0.199595  0.442085   0.030329 -0.686033   \n",
              "\n",
              "                  Extension  ZoneSpeed  EffectiveVelo  SpeedDrop      pfxx  \\\n",
              "isWhiff           -0.012853  -0.037220      -0.038924  -0.032847  0.021934   \n",
              "PitchBucket       -0.179765  -0.676723      -0.680270  -0.508560  0.127693   \n",
              "PitcherHand       -0.031161  -0.122078      -0.116357  -0.042724  0.516145   \n",
              "RelSpeed           0.295483   0.988388       0.986808   0.656133 -0.285758   \n",
              "SpinRate          -0.192318   0.074411       0.036478   0.000371  0.124347   \n",
              "InducedVertBreak   0.339514   0.684607       0.719693   0.585153 -0.196623   \n",
              "HorzBreak          0.122156   0.282632       0.290051   0.209481 -0.995104   \n",
              "SpinAxis           0.131352   0.247539       0.260467   0.201590 -0.763328   \n",
              "RelHeight         -0.006634   0.166514       0.146077   0.018012  0.027350   \n",
              "RelSide            0.011479   0.091892       0.085355   0.034743 -0.504893   \n",
              "Extension          1.000000   0.295415       0.430537   0.177171 -0.122174   \n",
              "ZoneSpeed          0.295415   1.000000       0.985890   0.533845 -0.278826   \n",
              "EffectiveVelo      0.430537   0.985890       1.000000   0.595126 -0.285893   \n",
              "SpeedDrop          0.177171   0.533845       0.595126   1.000000 -0.205441   \n",
              "pfxx              -0.122174  -0.278826      -0.285893  -0.205441  1.000000   \n",
              "pfxz               0.358003   0.692520       0.727982   0.581451 -0.198814   \n",
              "VertApprAngle      0.293368   0.639610       0.683591   0.593353 -0.187804   \n",
              "HorzApprAngle      0.050468   0.071696       0.085483   0.102849 -0.104667   \n",
              "\n",
              "                      pfxz  VertApprAngle  HorzApprAngle  \n",
              "isWhiff          -0.039482      -0.063317      -0.016779  \n",
              "PitchBucket      -0.544023      -0.562087      -0.086414  \n",
              "PitcherHand       0.018949      -0.004058       0.608695  \n",
              "RelSpeed          0.722530       0.677450       0.082468  \n",
              "SpinRate         -0.146886      -0.056256      -0.177924  \n",
              "InducedVertBreak  0.997211       0.736063       0.170180  \n",
              "HorzBreak         0.211584       0.199722       0.199595  \n",
              "SpinAxis          0.267081       0.237688       0.442085  \n",
              "RelHeight         0.237565      -0.132446       0.030329  \n",
              "RelSide          -0.049904       0.010106      -0.686033  \n",
              "Extension         0.358003       0.293368       0.050468  \n",
              "ZoneSpeed         0.692520       0.639610       0.071696  \n",
              "EffectiveVelo     0.727982       0.683591       0.085483  \n",
              "SpeedDrop         0.581451       0.593353       0.102849  \n",
              "pfxx             -0.198814      -0.187804      -0.104667  \n",
              "pfxz              1.000000       0.694381       0.165090  \n",
              "VertApprAngle     0.694381       1.000000       0.150632  \n",
              "HorzApprAngle     0.165090       0.150632       1.000000  "
            ],
            "text/html": [
              "\n",
              "  <div id=\"df-8a1fd4dc-b109-4733-857c-7ca12f1e8a38\" class=\"colab-df-container\">\n",
              "    <div>\n",
              "<style scoped>\n",
              "    .dataframe tbody tr th:only-of-type {\n",
              "        vertical-align: middle;\n",
              "    }\n",
              "\n",
              "    .dataframe tbody tr th {\n",
              "        vertical-align: top;\n",
              "    }\n",
              "\n",
              "    .dataframe thead th {\n",
              "        text-align: right;\n",
              "    }\n",
              "</style>\n",
              "<table border=\"1\" class=\"dataframe\">\n",
              "  <thead>\n",
              "    <tr style=\"text-align: right;\">\n",
              "      <th></th>\n",
              "      <th>isWhiff</th>\n",
              "      <th>PitchBucket</th>\n",
              "      <th>PitcherHand</th>\n",
              "      <th>RelSpeed</th>\n",
              "      <th>SpinRate</th>\n",
              "      <th>InducedVertBreak</th>\n",
              "      <th>HorzBreak</th>\n",
              "      <th>SpinAxis</th>\n",
              "      <th>RelHeight</th>\n",
              "      <th>RelSide</th>\n",
              "      <th>Extension</th>\n",
              "      <th>ZoneSpeed</th>\n",
              "      <th>EffectiveVelo</th>\n",
              "      <th>SpeedDrop</th>\n",
              "      <th>pfxx</th>\n",
              "      <th>pfxz</th>\n",
              "      <th>VertApprAngle</th>\n",
              "      <th>HorzApprAngle</th>\n",
              "    </tr>\n",
              "  </thead>\n",
              "  <tbody>\n",
              "    <tr>\n",
              "      <th>isWhiff</th>\n",
              "      <td>1.000000</td>\n",
              "      <td>0.093343</td>\n",
              "      <td>0.003586</td>\n",
              "      <td>-0.039120</td>\n",
              "      <td>0.014628</td>\n",
              "      <td>-0.042654</td>\n",
              "      <td>-0.022979</td>\n",
              "      <td>-0.018408</td>\n",
              "      <td>0.001544</td>\n",
              "      <td>-0.004036</td>\n",
              "      <td>-0.012853</td>\n",
              "      <td>-0.037220</td>\n",
              "      <td>-0.038924</td>\n",
              "      <td>-0.032847</td>\n",
              "      <td>0.021934</td>\n",
              "      <td>-0.039482</td>\n",
              "      <td>-0.063317</td>\n",
              "      <td>-0.016779</td>\n",
              "    </tr>\n",
              "    <tr>\n",
              "      <th>PitchBucket</th>\n",
              "      <td>0.093343</td>\n",
              "      <td>1.000000</td>\n",
              "      <td>0.004624</td>\n",
              "      <td>-0.695334</td>\n",
              "      <td>-0.245902</td>\n",
              "      <td>-0.547556</td>\n",
              "      <td>-0.134422</td>\n",
              "      <td>-0.132801</td>\n",
              "      <td>-0.080542</td>\n",
              "      <td>0.007622</td>\n",
              "      <td>-0.179765</td>\n",
              "      <td>-0.676723</td>\n",
              "      <td>-0.680270</td>\n",
              "      <td>-0.508560</td>\n",
              "      <td>0.127693</td>\n",
              "      <td>-0.544023</td>\n",
              "      <td>-0.562087</td>\n",
              "      <td>-0.086414</td>\n",
              "    </tr>\n",
              "    <tr>\n",
              "      <th>PitcherHand</th>\n",
              "      <td>0.003586</td>\n",
              "      <td>0.004624</td>\n",
              "      <td>1.000000</td>\n",
              "      <td>-0.116627</td>\n",
              "      <td>-0.086647</td>\n",
              "      <td>0.023906</td>\n",
              "      <td>-0.448525</td>\n",
              "      <td>-0.030696</td>\n",
              "      <td>-0.039442</td>\n",
              "      <td>-0.904429</td>\n",
              "      <td>-0.031161</td>\n",
              "      <td>-0.122078</td>\n",
              "      <td>-0.116357</td>\n",
              "      <td>-0.042724</td>\n",
              "      <td>0.516145</td>\n",
              "      <td>0.018949</td>\n",
              "      <td>-0.004058</td>\n",
              "      <td>0.608695</td>\n",
              "    </tr>\n",
              "    <tr>\n",
              "      <th>RelSpeed</th>\n",
              "      <td>-0.039120</td>\n",
              "      <td>-0.695334</td>\n",
              "      <td>-0.116627</td>\n",
              "      <td>1.000000</td>\n",
              "      <td>0.066475</td>\n",
              "      <td>0.716134</td>\n",
              "      <td>0.289880</td>\n",
              "      <td>0.257144</td>\n",
              "      <td>0.151843</td>\n",
              "      <td>0.088253</td>\n",
              "      <td>0.295483</td>\n",
              "      <td>0.988388</td>\n",
              "      <td>0.986808</td>\n",
              "      <td>0.656133</td>\n",
              "      <td>-0.285758</td>\n",
              "      <td>0.722530</td>\n",
              "      <td>0.677450</td>\n",
              "      <td>0.082468</td>\n",
              "    </tr>\n",
              "    <tr>\n",
              "      <th>SpinRate</th>\n",
              "      <td>0.014628</td>\n",
              "      <td>-0.245902</td>\n",
              "      <td>-0.086647</td>\n",
              "      <td>0.066475</td>\n",
              "      <td>1.000000</td>\n",
              "      <td>-0.149148</td>\n",
              "      <td>-0.139666</td>\n",
              "      <td>-0.198824</td>\n",
              "      <td>0.024109</td>\n",
              "      <td>0.078591</td>\n",
              "      <td>-0.192318</td>\n",
              "      <td>0.074411</td>\n",
              "      <td>0.036478</td>\n",
              "      <td>0.000371</td>\n",
              "      <td>0.124347</td>\n",
              "      <td>-0.146886</td>\n",
              "      <td>-0.056256</td>\n",
              "      <td>-0.177924</td>\n",
              "    </tr>\n",
              "    <tr>\n",
              "      <th>InducedVertBreak</th>\n",
              "      <td>-0.042654</td>\n",
              "      <td>-0.547556</td>\n",
              "      <td>0.023906</td>\n",
              "      <td>0.716134</td>\n",
              "      <td>-0.149148</td>\n",
              "      <td>1.000000</td>\n",
              "      <td>0.210095</td>\n",
              "      <td>0.269118</td>\n",
              "      <td>0.207981</td>\n",
              "      <td>-0.051081</td>\n",
              "      <td>0.339514</td>\n",
              "      <td>0.684607</td>\n",
              "      <td>0.719693</td>\n",
              "      <td>0.585153</td>\n",
              "      <td>-0.196623</td>\n",
              "      <td>0.997211</td>\n",
              "      <td>0.736063</td>\n",
              "      <td>0.170180</td>\n",
              "    </tr>\n",
              "    <tr>\n",
              "      <th>HorzBreak</th>\n",
              "      <td>-0.022979</td>\n",
              "      <td>-0.134422</td>\n",
              "      <td>-0.448525</td>\n",
              "      <td>0.289880</td>\n",
              "      <td>-0.139666</td>\n",
              "      <td>0.210095</td>\n",
              "      <td>1.000000</td>\n",
              "      <td>0.795557</td>\n",
              "      <td>-0.024149</td>\n",
              "      <td>0.430431</td>\n",
              "      <td>0.122156</td>\n",
              "      <td>0.282632</td>\n",
              "      <td>0.290051</td>\n",
              "      <td>0.209481</td>\n",
              "      <td>-0.995104</td>\n",
              "      <td>0.211584</td>\n",
              "      <td>0.199722</td>\n",
              "      <td>0.199595</td>\n",
              "    </tr>\n",
              "    <tr>\n",
              "      <th>SpinAxis</th>\n",
              "      <td>-0.018408</td>\n",
              "      <td>-0.132801</td>\n",
              "      <td>-0.030696</td>\n",
              "      <td>0.257144</td>\n",
              "      <td>-0.198824</td>\n",
              "      <td>0.269118</td>\n",
              "      <td>0.795557</td>\n",
              "      <td>1.000000</td>\n",
              "      <td>-0.060448</td>\n",
              "      <td>0.052655</td>\n",
              "      <td>0.131352</td>\n",
              "      <td>0.247539</td>\n",
              "      <td>0.260467</td>\n",
              "      <td>0.201590</td>\n",
              "      <td>-0.763328</td>\n",
              "      <td>0.267081</td>\n",
              "      <td>0.237688</td>\n",
              "      <td>0.442085</td>\n",
              "    </tr>\n",
              "    <tr>\n",
              "      <th>RelHeight</th>\n",
              "      <td>0.001544</td>\n",
              "      <td>-0.080542</td>\n",
              "      <td>-0.039442</td>\n",
              "      <td>0.151843</td>\n",
              "      <td>0.024109</td>\n",
              "      <td>0.207981</td>\n",
              "      <td>-0.024149</td>\n",
              "      <td>-0.060448</td>\n",
              "      <td>1.000000</td>\n",
              "      <td>-0.055143</td>\n",
              "      <td>-0.006634</td>\n",
              "      <td>0.166514</td>\n",
              "      <td>0.146077</td>\n",
              "      <td>0.018012</td>\n",
              "      <td>0.027350</td>\n",
              "      <td>0.237565</td>\n",
              "      <td>-0.132446</td>\n",
              "      <td>0.030329</td>\n",
              "    </tr>\n",
              "    <tr>\n",
              "      <th>RelSide</th>\n",
              "      <td>-0.004036</td>\n",
              "      <td>0.007622</td>\n",
              "      <td>-0.904429</td>\n",
              "      <td>0.088253</td>\n",
              "      <td>0.078591</td>\n",
              "      <td>-0.051081</td>\n",
              "      <td>0.430431</td>\n",
              "      <td>0.052655</td>\n",
              "      <td>-0.055143</td>\n",
              "      <td>1.000000</td>\n",
              "      <td>0.011479</td>\n",
              "      <td>0.091892</td>\n",
              "      <td>0.085355</td>\n",
              "      <td>0.034743</td>\n",
              "      <td>-0.504893</td>\n",
              "      <td>-0.049904</td>\n",
              "      <td>0.010106</td>\n",
              "      <td>-0.686033</td>\n",
              "    </tr>\n",
              "    <tr>\n",
              "      <th>Extension</th>\n",
              "      <td>-0.012853</td>\n",
              "      <td>-0.179765</td>\n",
              "      <td>-0.031161</td>\n",
              "      <td>0.295483</td>\n",
              "      <td>-0.192318</td>\n",
              "      <td>0.339514</td>\n",
              "      <td>0.122156</td>\n",
              "      <td>0.131352</td>\n",
              "      <td>-0.006634</td>\n",
              "      <td>0.011479</td>\n",
              "      <td>1.000000</td>\n",
              "      <td>0.295415</td>\n",
              "      <td>0.430537</td>\n",
              "      <td>0.177171</td>\n",
              "      <td>-0.122174</td>\n",
              "      <td>0.358003</td>\n",
              "      <td>0.293368</td>\n",
              "      <td>0.050468</td>\n",
              "    </tr>\n",
              "    <tr>\n",
              "      <th>ZoneSpeed</th>\n",
              "      <td>-0.037220</td>\n",
              "      <td>-0.676723</td>\n",
              "      <td>-0.122078</td>\n",
              "      <td>0.988388</td>\n",
              "      <td>0.074411</td>\n",
              "      <td>0.684607</td>\n",
              "      <td>0.282632</td>\n",
              "      <td>0.247539</td>\n",
              "      <td>0.166514</td>\n",
              "      <td>0.091892</td>\n",
              "      <td>0.295415</td>\n",
              "      <td>1.000000</td>\n",
              "      <td>0.985890</td>\n",
              "      <td>0.533845</td>\n",
              "      <td>-0.278826</td>\n",
              "      <td>0.692520</td>\n",
              "      <td>0.639610</td>\n",
              "      <td>0.071696</td>\n",
              "    </tr>\n",
              "    <tr>\n",
              "      <th>EffectiveVelo</th>\n",
              "      <td>-0.038924</td>\n",
              "      <td>-0.680270</td>\n",
              "      <td>-0.116357</td>\n",
              "      <td>0.986808</td>\n",
              "      <td>0.036478</td>\n",
              "      <td>0.719693</td>\n",
              "      <td>0.290051</td>\n",
              "      <td>0.260467</td>\n",
              "      <td>0.146077</td>\n",
              "      <td>0.085355</td>\n",
              "      <td>0.430537</td>\n",
              "      <td>0.985890</td>\n",
              "      <td>1.000000</td>\n",
              "      <td>0.595126</td>\n",
              "      <td>-0.285893</td>\n",
              "      <td>0.727982</td>\n",
              "      <td>0.683591</td>\n",
              "      <td>0.085483</td>\n",
              "    </tr>\n",
              "    <tr>\n",
              "      <th>SpeedDrop</th>\n",
              "      <td>-0.032847</td>\n",
              "      <td>-0.508560</td>\n",
              "      <td>-0.042724</td>\n",
              "      <td>0.656133</td>\n",
              "      <td>0.000371</td>\n",
              "      <td>0.585153</td>\n",
              "      <td>0.209481</td>\n",
              "      <td>0.201590</td>\n",
              "      <td>0.018012</td>\n",
              "      <td>0.034743</td>\n",
              "      <td>0.177171</td>\n",
              "      <td>0.533845</td>\n",
              "      <td>0.595126</td>\n",
              "      <td>1.000000</td>\n",
              "      <td>-0.205441</td>\n",
              "      <td>0.581451</td>\n",
              "      <td>0.593353</td>\n",
              "      <td>0.102849</td>\n",
              "    </tr>\n",
              "    <tr>\n",
              "      <th>pfxx</th>\n",
              "      <td>0.021934</td>\n",
              "      <td>0.127693</td>\n",
              "      <td>0.516145</td>\n",
              "      <td>-0.285758</td>\n",
              "      <td>0.124347</td>\n",
              "      <td>-0.196623</td>\n",
              "      <td>-0.995104</td>\n",
              "      <td>-0.763328</td>\n",
              "      <td>0.027350</td>\n",
              "      <td>-0.504893</td>\n",
              "      <td>-0.122174</td>\n",
              "      <td>-0.278826</td>\n",
              "      <td>-0.285893</td>\n",
              "      <td>-0.205441</td>\n",
              "      <td>1.000000</td>\n",
              "      <td>-0.198814</td>\n",
              "      <td>-0.187804</td>\n",
              "      <td>-0.104667</td>\n",
              "    </tr>\n",
              "    <tr>\n",
              "      <th>pfxz</th>\n",
              "      <td>-0.039482</td>\n",
              "      <td>-0.544023</td>\n",
              "      <td>0.018949</td>\n",
              "      <td>0.722530</td>\n",
              "      <td>-0.146886</td>\n",
              "      <td>0.997211</td>\n",
              "      <td>0.211584</td>\n",
              "      <td>0.267081</td>\n",
              "      <td>0.237565</td>\n",
              "      <td>-0.049904</td>\n",
              "      <td>0.358003</td>\n",
              "      <td>0.692520</td>\n",
              "      <td>0.727982</td>\n",
              "      <td>0.581451</td>\n",
              "      <td>-0.198814</td>\n",
              "      <td>1.000000</td>\n",
              "      <td>0.694381</td>\n",
              "      <td>0.165090</td>\n",
              "    </tr>\n",
              "    <tr>\n",
              "      <th>VertApprAngle</th>\n",
              "      <td>-0.063317</td>\n",
              "      <td>-0.562087</td>\n",
              "      <td>-0.004058</td>\n",
              "      <td>0.677450</td>\n",
              "      <td>-0.056256</td>\n",
              "      <td>0.736063</td>\n",
              "      <td>0.199722</td>\n",
              "      <td>0.237688</td>\n",
              "      <td>-0.132446</td>\n",
              "      <td>0.010106</td>\n",
              "      <td>0.293368</td>\n",
              "      <td>0.639610</td>\n",
              "      <td>0.683591</td>\n",
              "      <td>0.593353</td>\n",
              "      <td>-0.187804</td>\n",
              "      <td>0.694381</td>\n",
              "      <td>1.000000</td>\n",
              "      <td>0.150632</td>\n",
              "    </tr>\n",
              "    <tr>\n",
              "      <th>HorzApprAngle</th>\n",
              "      <td>-0.016779</td>\n",
              "      <td>-0.086414</td>\n",
              "      <td>0.608695</td>\n",
              "      <td>0.082468</td>\n",
              "      <td>-0.177924</td>\n",
              "      <td>0.170180</td>\n",
              "      <td>0.199595</td>\n",
              "      <td>0.442085</td>\n",
              "      <td>0.030329</td>\n",
              "      <td>-0.686033</td>\n",
              "      <td>0.050468</td>\n",
              "      <td>0.071696</td>\n",
              "      <td>0.085483</td>\n",
              "      <td>0.102849</td>\n",
              "      <td>-0.104667</td>\n",
              "      <td>0.165090</td>\n",
              "      <td>0.150632</td>\n",
              "      <td>1.000000</td>\n",
              "    </tr>\n",
              "  </tbody>\n",
              "</table>\n",
              "</div>\n",
              "    <div class=\"colab-df-buttons\">\n",
              "\n",
              "  <div class=\"colab-df-container\">\n",
              "    <button class=\"colab-df-convert\" onclick=\"convertToInteractive('df-8a1fd4dc-b109-4733-857c-7ca12f1e8a38')\"\n",
              "            title=\"Convert this dataframe to an interactive table.\"\n",
              "            style=\"display:none;\">\n",
              "\n",
              "  <svg xmlns=\"http://www.w3.org/2000/svg\" height=\"24px\" viewBox=\"0 -960 960 960\">\n",
              "    <path d=\"M120-120v-720h720v720H120Zm60-500h600v-160H180v160Zm220 220h160v-160H400v160Zm0 220h160v-160H400v160ZM180-400h160v-160H180v160Zm440 0h160v-160H620v160ZM180-180h160v-160H180v160Zm440 0h160v-160H620v160Z\"/>\n",
              "  </svg>\n",
              "    </button>\n",
              "\n",
              "  <style>\n",
              "    .colab-df-container {\n",
              "      display:flex;\n",
              "      gap: 12px;\n",
              "    }\n",
              "\n",
              "    .colab-df-convert {\n",
              "      background-color: #E8F0FE;\n",
              "      border: none;\n",
              "      border-radius: 50%;\n",
              "      cursor: pointer;\n",
              "      display: none;\n",
              "      fill: #1967D2;\n",
              "      height: 32px;\n",
              "      padding: 0 0 0 0;\n",
              "      width: 32px;\n",
              "    }\n",
              "\n",
              "    .colab-df-convert:hover {\n",
              "      background-color: #E2EBFA;\n",
              "      box-shadow: 0px 1px 2px rgba(60, 64, 67, 0.3), 0px 1px 3px 1px rgba(60, 64, 67, 0.15);\n",
              "      fill: #174EA6;\n",
              "    }\n",
              "\n",
              "    .colab-df-buttons div {\n",
              "      margin-bottom: 4px;\n",
              "    }\n",
              "\n",
              "    [theme=dark] .colab-df-convert {\n",
              "      background-color: #3B4455;\n",
              "      fill: #D2E3FC;\n",
              "    }\n",
              "\n",
              "    [theme=dark] .colab-df-convert:hover {\n",
              "      background-color: #434B5C;\n",
              "      box-shadow: 0px 1px 3px 1px rgba(0, 0, 0, 0.15);\n",
              "      filter: drop-shadow(0px 1px 2px rgba(0, 0, 0, 0.3));\n",
              "      fill: #FFFFFF;\n",
              "    }\n",
              "  </style>\n",
              "\n",
              "    <script>\n",
              "      const buttonEl =\n",
              "        document.querySelector('#df-8a1fd4dc-b109-4733-857c-7ca12f1e8a38 button.colab-df-convert');\n",
              "      buttonEl.style.display =\n",
              "        google.colab.kernel.accessAllowed ? 'block' : 'none';\n",
              "\n",
              "      async function convertToInteractive(key) {\n",
              "        const element = document.querySelector('#df-8a1fd4dc-b109-4733-857c-7ca12f1e8a38');\n",
              "        const dataTable =\n",
              "          await google.colab.kernel.invokeFunction('convertToInteractive',\n",
              "                                                    [key], {});\n",
              "        if (!dataTable) return;\n",
              "\n",
              "        const docLinkHtml = 'Like what you see? Visit the ' +\n",
              "          '<a target=\"_blank\" href=https://colab.research.google.com/notebooks/data_table.ipynb>data table notebook</a>'\n",
              "          + ' to learn more about interactive tables.';\n",
              "        element.innerHTML = '';\n",
              "        dataTable['output_type'] = 'display_data';\n",
              "        await google.colab.output.renderOutput(dataTable, element);\n",
              "        const docLink = document.createElement('div');\n",
              "        docLink.innerHTML = docLinkHtml;\n",
              "        element.appendChild(docLink);\n",
              "      }\n",
              "    </script>\n",
              "  </div>\n",
              "\n",
              "\n",
              "<div id=\"df-670e2ec4-e193-4ad8-9b7b-3330c79106d0\">\n",
              "  <button class=\"colab-df-quickchart\" onclick=\"quickchart('df-670e2ec4-e193-4ad8-9b7b-3330c79106d0')\"\n",
              "            title=\"Suggest charts\"\n",
              "            style=\"display:none;\">\n",
              "\n",
              "<svg xmlns=\"http://www.w3.org/2000/svg\" height=\"24px\"viewBox=\"0 0 24 24\"\n",
              "     width=\"24px\">\n",
              "    <g>\n",
              "        <path d=\"M19 3H5c-1.1 0-2 .9-2 2v14c0 1.1.9 2 2 2h14c1.1 0 2-.9 2-2V5c0-1.1-.9-2-2-2zM9 17H7v-7h2v7zm4 0h-2V7h2v10zm4 0h-2v-4h2v4z\"/>\n",
              "    </g>\n",
              "</svg>\n",
              "  </button>\n",
              "\n",
              "<style>\n",
              "  .colab-df-quickchart {\n",
              "      --bg-color: #E8F0FE;\n",
              "      --fill-color: #1967D2;\n",
              "      --hover-bg-color: #E2EBFA;\n",
              "      --hover-fill-color: #174EA6;\n",
              "      --disabled-fill-color: #AAA;\n",
              "      --disabled-bg-color: #DDD;\n",
              "  }\n",
              "\n",
              "  [theme=dark] .colab-df-quickchart {\n",
              "      --bg-color: #3B4455;\n",
              "      --fill-color: #D2E3FC;\n",
              "      --hover-bg-color: #434B5C;\n",
              "      --hover-fill-color: #FFFFFF;\n",
              "      --disabled-bg-color: #3B4455;\n",
              "      --disabled-fill-color: #666;\n",
              "  }\n",
              "\n",
              "  .colab-df-quickchart {\n",
              "    background-color: var(--bg-color);\n",
              "    border: none;\n",
              "    border-radius: 50%;\n",
              "    cursor: pointer;\n",
              "    display: none;\n",
              "    fill: var(--fill-color);\n",
              "    height: 32px;\n",
              "    padding: 0;\n",
              "    width: 32px;\n",
              "  }\n",
              "\n",
              "  .colab-df-quickchart:hover {\n",
              "    background-color: var(--hover-bg-color);\n",
              "    box-shadow: 0 1px 2px rgba(60, 64, 67, 0.3), 0 1px 3px 1px rgba(60, 64, 67, 0.15);\n",
              "    fill: var(--button-hover-fill-color);\n",
              "  }\n",
              "\n",
              "  .colab-df-quickchart-complete:disabled,\n",
              "  .colab-df-quickchart-complete:disabled:hover {\n",
              "    background-color: var(--disabled-bg-color);\n",
              "    fill: var(--disabled-fill-color);\n",
              "    box-shadow: none;\n",
              "  }\n",
              "\n",
              "  .colab-df-spinner {\n",
              "    border: 2px solid var(--fill-color);\n",
              "    border-color: transparent;\n",
              "    border-bottom-color: var(--fill-color);\n",
              "    animation:\n",
              "      spin 1s steps(1) infinite;\n",
              "  }\n",
              "\n",
              "  @keyframes spin {\n",
              "    0% {\n",
              "      border-color: transparent;\n",
              "      border-bottom-color: var(--fill-color);\n",
              "      border-left-color: var(--fill-color);\n",
              "    }\n",
              "    20% {\n",
              "      border-color: transparent;\n",
              "      border-left-color: var(--fill-color);\n",
              "      border-top-color: var(--fill-color);\n",
              "    }\n",
              "    30% {\n",
              "      border-color: transparent;\n",
              "      border-left-color: var(--fill-color);\n",
              "      border-top-color: var(--fill-color);\n",
              "      border-right-color: var(--fill-color);\n",
              "    }\n",
              "    40% {\n",
              "      border-color: transparent;\n",
              "      border-right-color: var(--fill-color);\n",
              "      border-top-color: var(--fill-color);\n",
              "    }\n",
              "    60% {\n",
              "      border-color: transparent;\n",
              "      border-right-color: var(--fill-color);\n",
              "    }\n",
              "    80% {\n",
              "      border-color: transparent;\n",
              "      border-right-color: var(--fill-color);\n",
              "      border-bottom-color: var(--fill-color);\n",
              "    }\n",
              "    90% {\n",
              "      border-color: transparent;\n",
              "      border-bottom-color: var(--fill-color);\n",
              "    }\n",
              "  }\n",
              "</style>\n",
              "\n",
              "  <script>\n",
              "    async function quickchart(key) {\n",
              "      const quickchartButtonEl =\n",
              "        document.querySelector('#' + key + ' button');\n",
              "      quickchartButtonEl.disabled = true;  // To prevent multiple clicks.\n",
              "      quickchartButtonEl.classList.add('colab-df-spinner');\n",
              "      try {\n",
              "        const charts = await google.colab.kernel.invokeFunction(\n",
              "            'suggestCharts', [key], {});\n",
              "      } catch (error) {\n",
              "        console.error('Error during call to suggestCharts:', error);\n",
              "      }\n",
              "      quickchartButtonEl.classList.remove('colab-df-spinner');\n",
              "      quickchartButtonEl.classList.add('colab-df-quickchart-complete');\n",
              "    }\n",
              "    (() => {\n",
              "      let quickchartButtonEl =\n",
              "        document.querySelector('#df-670e2ec4-e193-4ad8-9b7b-3330c79106d0 button');\n",
              "      quickchartButtonEl.style.display =\n",
              "        google.colab.kernel.accessAllowed ? 'block' : 'none';\n",
              "    })();\n",
              "  </script>\n",
              "</div>\n",
              "\n",
              "    </div>\n",
              "  </div>\n"
            ],
            "application/vnd.google.colaboratory.intrinsic+json": {
              "type": "dataframe",
              "summary": "{\n  \"name\": \"multiCollinDF\",\n  \"rows\": 18,\n  \"fields\": [\n    {\n      \"column\": \"isWhiff\",\n      \"properties\": {\n        \"dtype\": \"number\",\n        \"std\": 0.24144381817249036,\n        \"min\": -0.06331656142715116,\n        \"max\": 1.0,\n        \"num_unique_values\": 18,\n        \"samples\": [\n          1.0,\n          0.09334322522867505,\n          0.0015443134996053428\n        ],\n        \"semantic_type\": \"\",\n        \"description\": \"\"\n      }\n    },\n    {\n      \"column\": \"PitchBucket\",\n      \"properties\": {\n        \"dtype\": \"number\",\n        \"std\": 0.4146174578054302,\n        \"min\": -0.6953342487605604,\n        \"max\": 1.0,\n        \"num_unique_values\": 18,\n        \"samples\": [\n          0.09334322522867505,\n          1.0,\n          -0.08054216600175546\n        ],\n        \"semantic_type\": \"\",\n        \"description\": \"\"\n      }\n    },\n    {\n      \"column\": \"PitcherHand\",\n      \"properties\": {\n        \"dtype\": \"number\",\n        \"std\": 0.39918217597873157,\n        \"min\": -0.9044292791739249,\n        \"max\": 1.0,\n        \"num_unique_values\": 18,\n        \"samples\": [\n          0.0035857367885148233,\n          0.00462394794214259,\n          -0.03944178246541197\n        ],\n        \"semantic_type\": \"\",\n        \"description\": \"\"\n      }\n    },\n    {\n      \"column\": \"RelSpeed\",\n      \"properties\": {\n        \"dtype\": \"number\",\n        \"std\": 0.4751906177256086,\n        \"min\": -0.6953342487605604,\n        \"max\": 1.0,\n        \"num_unique_values\": 18,\n        \"samples\": [\n          -0.039119797456000055,\n          -0.6953342487605604,\n          0.15184306722583607\n        ],\n        \"semantic_type\": \"\",\n        \"description\": \"\"\n      }\n    },\n    {\n      \"column\": \"SpinRate\",\n      \"properties\": {\n        \"dtype\": \"number\",\n        \"std\": 0.27400353367296143,\n        \"min\": -0.2459016809854643,\n        \"max\": 1.0,\n        \"num_unique_values\": 18,\n        \"samples\": [\n          0.014628485145825265,\n          -0.2459016809854643,\n          0.024108801382861155\n        ],\n        \"semantic_type\": \"\",\n        \"description\": \"\"\n      }\n    },\n    {\n      \"column\": \"InducedVertBreak\",\n      \"properties\": {\n        \"dtype\": \"number\",\n        \"std\": 0.4379234127549604,\n        \"min\": -0.5475564882654604,\n        \"max\": 1.0,\n        \"num_unique_values\": 18,\n        \"samples\": [\n          -0.04265424338949058,\n          -0.5475564882654604,\n          0.20798104172520962\n        ],\n        \"semantic_type\": \"\",\n        \"description\": \"\"\n      }\n    },\n    {\n      \"column\": \"HorzBreak\",\n      \"properties\": {\n        \"dtype\": \"number\",\n        \"std\": 0.43271198793957805,\n        \"min\": -0.9951039534582962,\n        \"max\": 1.0,\n        \"num_unique_values\": 18,\n        \"samples\": [\n          -0.022978848391323144,\n          -0.13442166960491037,\n          -0.02414850463473377\n        ],\n        \"semantic_type\": \"\",\n        \"description\": \"\"\n      }\n    },\n    {\n      \"column\": \"SpinAxis\",\n      \"properties\": {\n        \"dtype\": \"number\",\n        \"std\": 0.3791055714438105,\n        \"min\": -0.7633278331987048,\n        \"max\": 1.0,\n        \"num_unique_values\": 18,\n        \"samples\": [\n          -0.018408298321091775,\n          -0.1328008741938269,\n          -0.06044828304367498\n        ],\n        \"semantic_type\": \"\",\n        \"description\": \"\"\n      }\n    },\n    {\n      \"column\": \"RelHeight\",\n      \"properties\": {\n        \"dtype\": \"number\",\n        \"std\": 0.2500400358157509,\n        \"min\": -0.13244565929012442,\n        \"max\": 1.0,\n        \"num_unique_values\": 18,\n        \"samples\": [\n          0.0015443134996053428,\n          -0.08054216600175546,\n          1.0\n        ],\n        \"semantic_type\": \"\",\n        \"description\": \"\"\n      }\n    },\n    {\n      \"column\": \"RelSide\",\n      \"properties\": {\n        \"dtype\": \"number\",\n        \"std\": 0.4031907081332117,\n        \"min\": -0.9044292791739249,\n        \"max\": 1.0,\n        \"num_unique_values\": 18,\n        \"samples\": [\n          -0.004036267388925277,\n          0.007621966508255605,\n          -0.055142660015607685\n        ],\n        \"semantic_type\": \"\",\n        \"description\": \"\"\n      }\n    },\n    {\n      \"column\": \"Extension\",\n      \"properties\": {\n        \"dtype\": \"number\",\n        \"std\": 0.28225202187168125,\n        \"min\": -0.19231775249858138,\n        \"max\": 1.0,\n        \"num_unique_values\": 18,\n        \"samples\": [\n          -0.012852636632371793,\n          -0.17976507612821735,\n          -0.0066337841295266995\n        ],\n        \"semantic_type\": \"\",\n        \"description\": \"\"\n      }\n    },\n    {\n      \"column\": \"ZoneSpeed\",\n      \"properties\": {\n        \"dtype\": \"number\",\n        \"std\": 0.46344262097814143,\n        \"min\": -0.6767234515720866,\n        \"max\": 1.0,\n        \"num_unique_values\": 18,\n        \"samples\": [\n          -0.03721987852879328,\n          -0.6767234515720866,\n          0.16651392790136924\n        ],\n        \"semantic_type\": \"\",\n        \"description\": \"\"\n      }\n    },\n    {\n      \"column\": \"EffectiveVelo\",\n      \"properties\": {\n        \"dtype\": \"number\",\n        \"std\": 0.4732543629281245,\n        \"min\": -0.6802701800534054,\n        \"max\": 1.0,\n        \"num_unique_values\": 18,\n        \"samples\": [\n          -0.03892388637533344,\n          -0.6802701800534054,\n          0.1460767844665873\n        ],\n        \"semantic_type\": \"\",\n        \"description\": \"\"\n      }\n    },\n    {\n      \"column\": \"SpeedDrop\",\n      \"properties\": {\n        \"dtype\": \"number\",\n        \"std\": 0.3764496464042452,\n        \"min\": -0.5085600466015141,\n        \"max\": 1.0,\n        \"num_unique_values\": 18,\n        \"samples\": [\n          -0.03284744328364898,\n          -0.5085600466015141,\n          0.018011933352510442\n        ],\n        \"semantic_type\": \"\",\n        \"description\": \"\"\n      }\n    },\n    {\n      \"column\": \"pfxx\",\n      \"properties\": {\n        \"dtype\": \"number\",\n        \"std\": 0.43743744123092687,\n        \"min\": -0.9951039534582962,\n        \"max\": 1.0,\n        \"num_unique_values\": 18,\n        \"samples\": [\n          0.021933871170870676,\n          0.12769251815861887,\n          0.027350043635111537\n        ],\n        \"semantic_type\": \"\",\n        \"description\": \"\"\n      }\n    },\n    {\n      \"column\": \"pfxz\",\n      \"properties\": {\n        \"dtype\": \"number\",\n        \"std\": 0.43614056777612864,\n        \"min\": -0.5440229675915367,\n        \"max\": 1.0,\n        \"num_unique_values\": 18,\n        \"samples\": [\n          -0.039481866748109475,\n          -0.5440229675915367,\n          0.23756514576602297\n        ],\n        \"semantic_type\": \"\",\n        \"description\": \"\"\n      }\n    },\n    {\n      \"column\": \"VertApprAngle\",\n      \"properties\": {\n        \"dtype\": \"number\",\n        \"std\": 0.41679498750632954,\n        \"min\": -0.562087397750498,\n        \"max\": 1.0,\n        \"num_unique_values\": 18,\n        \"samples\": [\n          -0.06331656142715116,\n          -0.562087397750498,\n          -0.13244565929012442\n        ],\n        \"semantic_type\": \"\",\n        \"description\": \"\"\n      }\n    },\n    {\n      \"column\": \"HorzApprAngle\",\n      \"properties\": {\n        \"dtype\": \"number\",\n        \"std\": 0.3427258053774874,\n        \"min\": -0.6860325720610468,\n        \"max\": 1.0,\n        \"num_unique_values\": 18,\n        \"samples\": [\n          -0.01677862565377918,\n          -0.08641393336111719,\n          0.030329173776262833\n        ],\n        \"semantic_type\": \"\",\n        \"description\": \"\"\n      }\n    }\n  ]\n}"
            }
          },
          "metadata": {},
          "execution_count": 15
        }
      ]
    },
    {
      "cell_type": "code",
      "source": [
        "import statistics\n",
        "\n",
        "# 'target_column' is the name of the column with 0s and 1s, and 'predictor_columns' is a list of predictor column names.\n",
        "\n",
        "def compute_statistics_by_target(df, target_column, predictor_columns):\n",
        "    # Group the dataframe by the target variable and calculate statistics for each group\n",
        "    grouped = df.groupby(target_column)\n",
        "\n",
        "    # Initialize a dictionary to store the statistics for each group\n",
        "    statistics_dict = {}\n",
        "\n",
        "    for target_value, group in grouped:\n",
        "        # Calculate the means for each predictor column\n",
        "        means = group[predictor_columns].mean()\n",
        "\n",
        "        # Calculate the standard deviations for each predictor column\n",
        "        std_devs = group[predictor_columns].std()\n",
        "\n",
        "        # Calculate the medians for each predictor column\n",
        "        medians = group[predictor_columns].median()\n",
        "\n",
        "        # Calculate the 25th percentile for each predictor column\n",
        "        percentile_25 = group[predictor_columns].quantile(0.25)\n",
        "\n",
        "        # Calculate the 75th percentile for each predictor column\n",
        "        percentile_75 = group[predictor_columns].quantile(0.75)\n",
        "\n",
        "        # Combine the means and standard deviations for each group into a single row\n",
        "        row = means.tolist() + std_devs.tolist() + medians.tolist() + percentile_25.tolist() + percentile_75.tolist()\n",
        "\n",
        "        # Add the row to the statistics dictionary\n",
        "        statistics_dict[target_value] = row\n",
        "\n",
        "    # Convert the dictionary to a dataframe and set the index\n",
        "    statistics_df = pd.DataFrame.from_dict(statistics_dict, orient='index', columns=predictor_columns +\n",
        "                                        [f'Std_Dev_{col}' for col in predictor_columns] +\n",
        "                                        [f'Median_{col}' for col in predictor_columns] +\n",
        "                                        [f'Percentile_25_{col}' for col in predictor_columns] +\n",
        "                                        [f'Percentile_75_{col}' for col in predictor_columns])\n",
        "\n",
        "\n",
        "    return statistics_df"
      ],
      "metadata": {
        "id": "PP1lU4mg0wAJ"
      },
      "execution_count": null,
      "outputs": []
    },
    {
      "cell_type": "code",
      "source": [
        "target_column_name = 'isWhiff'\n",
        "predictor_columns_list = ['PitchBucket', 'PitcherHand', 'RelSpeed', 'SpinRate', 'InducedVertBreak', 'HorzBreak', 'SpinAxis', 'RelHeight', 'RelSide', 'Extension', 'ZoneSpeed', 'EffectiveVelo', 'SpeedDrop', 'pfxx', 'pfxz', 'VertApprAngle', 'HorzApprAngle']\n",
        "\n",
        "fastballBucketDF = cleanD1[cleanD1['PitchBucket'] == 1]\n",
        "breakingBucketDF = cleanD1[cleanD1['PitchBucket'] == 2]\n",
        "offspeedBucketDF = cleanD1[cleanD1['PitchBucket'] == 3]"
      ],
      "metadata": {
        "id": "RTlFThky-Xix"
      },
      "execution_count": null,
      "outputs": []
    },
    {
      "cell_type": "code",
      "source": [
        "# Fastball\n",
        "statistics_table = compute_statistics_by_target(fastballBucketDF, target_column_name, predictor_columns_list)\n",
        "print(statistics_table)\n",
        "csv = statistics_table.to_csv(\"/content/drive/Shareddrives/USC Baseball/ML Stuff/SabermetricModels/Stuff+ Colab Notebooks/Stuff_Fastball_WhiffANOVA*.csv\", index=False)"
      ],
      "metadata": {
        "colab": {
          "base_uri": "https://localhost:8080/"
        },
        "id": "v6EMnOVS-yGu",
        "outputId": "814a5fe9-8a48-413b-9e65-b72eb7da1dd6"
      },
      "execution_count": null,
      "outputs": [
        {
          "output_type": "stream",
          "name": "stdout",
          "text": [
            "   PitchBucket  PitcherHand   RelSpeed     SpinRate  InducedVertBreak  \\\n",
            "0          1.0     0.267692  89.307876  2174.906657         14.880015   \n",
            "1          1.0     0.279493  89.954842  2203.419123         15.774856   \n",
            "\n",
            "   HorzBreak    SpinAxis  RelHeight   RelSide  Extension  ...  \\\n",
            "0   5.087537  197.664474   5.741206  0.746418    5.90403  ...   \n",
            "1   4.475911  195.215676   5.748499  0.700092    5.92399  ...   \n",
            "\n",
            "   Percentile_75_RelHeight  Percentile_75_RelSide  Percentile_75_Extension  \\\n",
            "0                  6.09734                1.94815                  6.26319   \n",
            "1                  6.10433                1.94162                  6.27762   \n",
            "\n",
            "   Percentile_75_ZoneSpeed  Percentile_75_EffectiveVelo  \\\n",
            "0                 83.39630                    90.487818   \n",
            "1                 83.89188                    91.201358   \n",
            "\n",
            "   Percentile_75_SpeedDrop  Percentile_75_pfxx  Percentile_75_pfxz  \\\n",
            "0                  8.54495             2.66087            10.59319   \n",
            "1                  8.69375             3.24433            11.04642   \n",
            "\n",
            "   Percentile_75_VertApprAngle  Percentile_75_HorzApprAngle  \n",
            "0                    -4.783451                     0.610026  \n",
            "1                    -4.355720                     0.500022  \n",
            "\n",
            "[2 rows x 85 columns]\n"
          ]
        }
      ]
    },
    {
      "cell_type": "code",
      "source": [
        "# Breaking\n",
        "statistics_table = compute_statistics_by_target(breakingBucketDF, target_column_name, predictor_columns_list)\n",
        "print(statistics_table)\n",
        "csv = statistics_table.to_csv(\"/content/drive/Shareddrives/USC Baseball/ML Stuff/SabermetricModels/Stuff+ Colab Notebooks/Stuff_Breaking_WhiffANOVA*.csv\", index=False)"
      ],
      "metadata": {
        "colab": {
          "base_uri": "https://localhost:8080/"
        },
        "id": "2-RVlgCG9UUV",
        "outputId": "97bd8b0b-6595-409f-9575-f6ebbf385bcb"
      },
      "execution_count": null,
      "outputs": [
        {
          "output_type": "stream",
          "name": "stdout",
          "text": [
            "   PitchBucket  PitcherHand   RelSpeed     SpinRate  InducedVertBreak  \\\n",
            "0          2.0     0.237368  79.454942  2338.392332         -0.929100   \n",
            "1          2.0     0.237672  80.455371  2369.676039         -0.282645   \n",
            "\n",
            "   HorzBreak    SpinAxis  RelHeight   RelSide  Extension  ...  \\\n",
            "0  -3.705261  137.024107   5.681076  0.898038   5.441514  ...   \n",
            "1  -3.500413  139.993319   5.696293  0.889875   5.466424  ...   \n",
            "\n",
            "   Percentile_75_RelHeight  Percentile_75_RelSide  Percentile_75_Extension  \\\n",
            "0                 6.031310               2.061890                 5.794680   \n",
            "1                 6.042445               2.058805                 5.815168   \n",
            "\n",
            "   Percentile_75_ZoneSpeed  Percentile_75_EffectiveVelo  \\\n",
            "0                75.486510                    80.726615   \n",
            "1                76.344785                    81.620390   \n",
            "\n",
            "   Percentile_75_SpeedDrop  Percentile_75_pfxx  Percentile_75_pfxz  \\\n",
            "0                 7.143540             4.62142             2.37316   \n",
            "1                 7.179032             4.18113             2.74847   \n",
            "\n",
            "   Percentile_75_VertApprAngle  Percentile_75_HorzApprAngle  \n",
            "0                    -7.155470                    -0.048823  \n",
            "1                    -7.572643                    -0.350372  \n",
            "\n",
            "[2 rows x 85 columns]\n"
          ]
        }
      ]
    },
    {
      "cell_type": "code",
      "source": [
        "# Offspeed\n",
        "statistics_table = compute_statistics_by_target(offspeedBucketDF, target_column_name, predictor_columns_list)\n",
        "print(statistics_table)\n",
        "csv = statistics_table.to_csv(\"/content/drive/Shareddrives/USC Baseball/ML Stuff/SabermetricModels/Stuff+ Colab Notebooks/Stuff_Offspeed_WhiffANOVA*.csv\", index=False)"
      ],
      "metadata": {
        "colab": {
          "base_uri": "https://localhost:8080/"
        },
        "id": "Pq4zLEYk9phR",
        "outputId": "1ad1c9df-dab8-4a26-d50c-20d2d2ad8861"
      },
      "execution_count": null,
      "outputs": [
        {
          "output_type": "stream",
          "name": "stdout",
          "text": [
            "   PitchBucket  PitcherHand   RelSpeed     SpinRate  InducedVertBreak  \\\n",
            "0          3.0     0.307470  81.073227  1737.286028          7.436943   \n",
            "1          3.0     0.310547  81.041662  1744.803533          7.301050   \n",
            "\n",
            "   HorzBreak    SpinAxis  RelHeight   RelSide  Extension  ...  \\\n",
            "0   4.930726  202.540137   5.615679  0.652038   5.841341  ...   \n",
            "1   5.019775  203.661589   5.669418  0.604446   5.841285  ...   \n",
            "\n",
            "   Percentile_75_RelHeight  Percentile_75_RelSide  Percentile_75_Extension  \\\n",
            "0                 5.946042                2.02434                  6.22813   \n",
            "1                 5.991990                1.96549                  6.22648   \n",
            "\n",
            "   Percentile_75_ZoneSpeed  Percentile_75_EffectiveVelo  \\\n",
            "0                76.375593                    82.512367   \n",
            "1                76.254140                    82.339000   \n",
            "\n",
            "   Percentile_75_SpeedDrop  Percentile_75_pfxx  Percentile_75_pfxz  \\\n",
            "0                  7.50340            5.526088             6.57545   \n",
            "1                  7.49446            6.149260             6.59536   \n",
            "\n",
            "   Percentile_75_VertApprAngle  Percentile_75_HorzApprAngle  \n",
            "0                    -6.490498                     0.783430  \n",
            "1                    -7.040565                     0.654681  \n",
            "\n",
            "[2 rows x 85 columns]\n"
          ]
        }
      ]
    },
    {
      "cell_type": "markdown",
      "source": [
        "# Making the model"
      ],
      "metadata": {
        "id": "Dad4bxauBinF"
      }
    },
    {
      "cell_type": "code",
      "source": [
        "finalCleanDF = swingDataset.dropna(subset=['isWhiff', 'PitchBucket', 'PitcherHand', 'RelSpeed', 'SpinRate', 'InducedVertBreak', 'HorzBreak', 'SpinAxis', 'RelHeight', 'RelSide', 'Extension', 'SpeedDrop', 'pfxz', 'VertApprAngle', 'HorzApprAngle'])\n",
        "finalDF = finalCleanDF[['isWhiff', 'PitchBucket', 'PitcherHand', 'RelSpeed', 'SpinRate', 'InducedVertBreak', 'HorzBreak', 'SpinAxis', 'RelHeight', 'RelSide', 'Extension', 'SpeedDrop', 'pfxz', 'VertApprAngle', 'HorzApprAngle']]"
      ],
      "metadata": {
        "id": "q3qkd_LFBkdQ"
      },
      "execution_count": null,
      "outputs": []
    },
    {
      "cell_type": "code",
      "source": [
        "finalFastball = finalDF[finalDF['PitchBucket'] == 1]\n",
        "finalBreaking = finalDF[finalDF['PitchBucket'] == 2]\n",
        "finalOffspeed = finalDF[finalDF['PitchBucket'] == 3]"
      ],
      "metadata": {
        "id": "W75iGcewCuAa"
      },
      "execution_count": null,
      "outputs": []
    },
    {
      "cell_type": "code",
      "source": [
        "print(finalDF.shape)\n",
        "print(finalFastball.shape)\n",
        "print(finalBreaking.shape)\n",
        "print(finalOffspeed.shape)"
      ],
      "metadata": {
        "colab": {
          "base_uri": "https://localhost:8080/"
        },
        "id": "7eheKY0tDCDi",
        "outputId": "7fa9eb88-ff5f-4fce-ef41-30a03bcee39b"
      },
      "execution_count": null,
      "outputs": [
        {
          "output_type": "stream",
          "name": "stdout",
          "text": [
            "(768375, 15)\n",
            "(439313, 15)\n",
            "(230936, 15)\n",
            "(98126, 15)\n"
          ]
        }
      ]
    },
    {
      "cell_type": "markdown",
      "source": [
        "## Making Fastball Model"
      ],
      "metadata": {
        "id": "8CxfMOMSEPzu"
      }
    },
    {
      "cell_type": "code",
      "source": [
        "minority_class = finalFastball[finalFastball['isWhiff'] == 1]\n",
        "majority_class = finalFastball[finalFastball['isWhiff'] == 0]\n",
        "\n",
        "print(\"majority class is: \" + str(len(majority_class)) + \" (\" + str(100*len(majority_class)/(len(majority_class)+len(minority_class))) + \")\")\n",
        "print(\"minority class is: \" + str(len(minority_class)) + \" (\" + str(100*len(minority_class)/(len(majority_class)+len(minority_class))) + \")\")\n",
        "\n",
        "print(\"total is: \" + str(len(majority_class)+len(minority_class)))"
      ],
      "metadata": {
        "colab": {
          "base_uri": "https://localhost:8080/"
        },
        "id": "bnjUUoPLDHVr",
        "outputId": "27281bc0-993d-4934-cf58-bad292f7b498"
      },
      "execution_count": null,
      "outputs": [
        {
          "output_type": "stream",
          "name": "stdout",
          "text": [
            "majority class is: 358670 (81.64338410199562)\n",
            "minority class is: 80643 (18.356615898004385)\n",
            "total is: 439313\n"
          ]
        }
      ]
    },
    {
      "cell_type": "code",
      "execution_count": null,
      "metadata": {
        "id": "tsbcZU879aP4"
      },
      "outputs": [],
      "source": [
        "# resamples the class\n",
        "from sklearn.utils import resample\n",
        "majority_class_downsampled = resample(majority_class,\n",
        "                                      replace=False,  # sample without replacement\n",
        "                                      n_samples=len(minority_class)*3,  # match minority class size\n",
        "                                      #n_samples = 390000,\n",
        "                                      random_state=42)  # reproducible results\n",
        "minority_class_upsampled = resample(minority_class,\n",
        "                                      replace=True,  # sample without replacement\n",
        "                                      n_samples=int(len(minority_class)*1.25),  # match minority class size\n",
        "                                      #n_samples = 390000,\n",
        "                                      random_state=42)  # reproducible results\n",
        "\n",
        "# Combine minority class and downsampled majority class\n",
        "balanced_df = pd.concat([minority_class_upsampled, majority_class_downsampled])\n",
        "\n",
        "\n"
      ]
    },
    {
      "cell_type": "code",
      "execution_count": null,
      "metadata": {
        "id": "kmYzAkzh_ri6"
      },
      "outputs": [],
      "source": [
        "# Shuffle the data to avoid order effects\n",
        "# figure why this don't work\n",
        "balanced_df = balanced_df.sample(frac=1, random_state=42)\n"
      ]
    },
    {
      "cell_type": "code",
      "execution_count": null,
      "metadata": {
        "id": "WdO2bnTQi0Yx"
      },
      "outputs": [],
      "source": [
        "rel_data = balanced_df[['isWhiff', 'PitchBucket', 'PitcherHand', 'RelSpeed', 'SpinRate', 'InducedVertBreak', 'HorzBreak', 'SpinAxis', 'RelHeight', 'RelSide', 'Extension', 'SpeedDrop', 'pfxz', 'VertApprAngle', 'HorzApprAngle']].to_numpy()\n",
        "\n",
        "\n",
        "classification = balanced_df['isWhiff'].to_numpy()"
      ]
    },
    {
      "cell_type": "code",
      "execution_count": null,
      "metadata": {
        "colab": {
          "base_uri": "https://localhost:8080/"
        },
        "outputId": "ffb60206-c164-4c7e-db79-8cfb6755f1a1",
        "id": "X5dl8w4fFEkh"
      },
      "outputs": [
        {
          "output_type": "stream",
          "name": "stdout",
          "text": [
            "majority class is: 241929\n",
            "minority class is: 100803\n",
            "total is: 342732\n"
          ]
        }
      ],
      "source": [
        "minority = balanced_df[balanced_df['isWhiff'] == 1]\n",
        "majority = balanced_df[balanced_df['isWhiff'] != 1]\n",
        "\n",
        "print(\"majority class is: \" + str(len(majority)))\n",
        "print(\"minority class is: \" + str(len(minority)))\n",
        "\n",
        "print(\"total is: \" + str(len(majority)+len(minority)))\n",
        "\n",
        "sampledTotal = len(majority) + len(minority)\n",
        "trainTotal = int(0.8*sampledTotal)"
      ]
    },
    {
      "cell_type": "code",
      "execution_count": null,
      "metadata": {
        "id": "ouxXdkj5IBEt"
      },
      "outputs": [],
      "source": [
        "# Split data into features and target\n",
        "X = balanced_df.drop(['isWhiff'], axis=1)\n",
        "y = balanced_df['isWhiff']\n",
        "# x = np.unique(classification, return_inverse=True)\n",
        "# y = np.unique(classification, return_inverse=True)\n",
        "\n",
        "# Split data into training and testing sets\n",
        "x_train = X[:trainTotal]\n",
        "x_test = X[trainTotal:]\n",
        "y_train = y[:trainTotal]\n",
        "y_test = y[trainTotal:]\n",
        "\n",
        "from sklearn import preprocessing\n",
        "\n",
        "# Standardize the features\n",
        "scaler = preprocessing.StandardScaler().fit(x_train)\n",
        "x_train_scaled = scaler.transform(x_train)\n",
        "x_test_scaled = scaler.transform(x_test)"
      ]
    },
    {
      "cell_type": "markdown",
      "source": [
        "### Making Fastball Model"
      ],
      "metadata": {
        "id": "6JFg-wRvRDGi"
      }
    },
    {
      "cell_type": "code",
      "execution_count": null,
      "metadata": {
        "id": "6ouNwt29qfL2"
      },
      "outputs": [],
      "source": [
        "from sklearn import metrics\n",
        "import seaborn as sns\n",
        "import matplotlib.pyplot as plt\n",
        "from matplotlib.colors import ListedColormap\n",
        "from sklearn.model_selection import train_test_split\n",
        "from sklearn.preprocessing import StandardScaler\n",
        "from sklearn.pipeline import make_pipeline\n",
        "from sklearn.datasets import make_moons, make_circles, make_classification\n",
        "from sklearn.tree import DecisionTreeClassifier\n",
        "from sklearn.ensemble import RandomForestClassifier, AdaBoostClassifier\n",
        "from numpy import loadtxt\n",
        "from xgboost import XGBClassifier\n",
        "# !pip install -U xgboost\n",
        "\n",
        "names = [\n",
        "    \"Decision Tree\",\n",
        "    \"Random Forest\",\n",
        "    \"XGBoost\"\n",
        "]\n",
        "\n",
        "classifiers = [\n",
        "    # DecisionTreeClassifier(max_depth=50),\n",
        "    #DecisionTreeClassifier(max_depth=5),\n",
        "    RandomForestClassifier(max_depth=None, n_estimators=130)\n",
        "    # XGBClassifier(device='gpu', eta=100)\n",
        "]"
      ]
    },
    {
      "cell_type": "code",
      "execution_count": null,
      "metadata": {
        "id": "qxLW79_FwZhX"
      },
      "outputs": [],
      "source": [
        "accuracies = []\n",
        "for opt in classifiers:\n",
        "  clf = make_pipeline(StandardScaler(), opt)\n",
        "  clf.fit(x_train, y_train)\n",
        "\n",
        "  y_pred = clf.predict((x_test))\n",
        "  accuracies.append(metrics.accuracy_score(y_test, y_pred))"
      ]
    },
    {
      "cell_type": "code",
      "execution_count": null,
      "metadata": {
        "colab": {
          "base_uri": "https://localhost:8080/"
        },
        "id": "oTJaGMsVpKWB",
        "outputId": "d08e5ceb-4c08-49f0-c297-cab60b54189e"
      },
      "outputs": [
        {
          "output_type": "stream",
          "name": "stdout",
          "text": [
            "              precision    recall  f1-score   support\n",
            "\n",
            "           0       0.88      0.97      0.92     48264\n",
            "           1       0.90      0.70      0.79     20283\n",
            "\n",
            "    accuracy                           0.89     68547\n",
            "   macro avg       0.89      0.83      0.85     68547\n",
            "weighted avg       0.89      0.89      0.88     68547\n",
            "\n"
          ]
        }
      ],
      "source": [
        "from sklearn.metrics import classification_report\n",
        "target_names = ['not Whiff, yes Whiff']\n",
        "print(classification_report(y_test, y_pred))"
      ]
    },
    {
      "cell_type": "code",
      "execution_count": null,
      "metadata": {
        "colab": {
          "base_uri": "https://localhost:8080/"
        },
        "id": "FESte-bGrU0J",
        "outputId": "d0a05b25-3b5b-44d0-bba9-22543164fe86"
      },
      "outputs": [
        {
          "output_type": "stream",
          "name": "stdout",
          "text": [
            "[0.8878725545975754]\n"
          ]
        }
      ],
      "source": [
        "print(accuracies)"
      ]
    },
    {
      "cell_type": "code",
      "source": [
        "print(accuracies)"
      ],
      "metadata": {
        "colab": {
          "base_uri": "https://localhost:8080/"
        },
        "id": "jI_IPEFoJqDp",
        "outputId": "99c3d9e1-ba08-4801-f02e-45465ed01a90"
      },
      "execution_count": null,
      "outputs": [
        {
          "output_type": "stream",
          "name": "stdout",
          "text": [
            "[0.8870118312982334]\n"
          ]
        }
      ]
    },
    {
      "cell_type": "markdown",
      "source": [
        "### Export Fastball Model"
      ],
      "metadata": {
        "id": "EGXHxBHURG63"
      }
    },
    {
      "cell_type": "code",
      "source": [
        "import joblib\n",
        "from joblib import dump\n",
        "\n",
        "import os\n",
        "os.chdir('/content/drive/Shareddrives/USC Baseball/ML Stuff/SabermetricModels/Stuff+')\n",
        "\n",
        "# export the trained model to disk\n",
        "joblib.dump(clf, 'FastballWhiffModel.joblib')"
      ],
      "metadata": {
        "id": "rO3sCWsdRK75",
        "colab": {
          "base_uri": "https://localhost:8080/"
        },
        "outputId": "9bb5cad9-d43b-480c-b23f-0539618cf1dd"
      },
      "execution_count": null,
      "outputs": [
        {
          "output_type": "execute_result",
          "data": {
            "text/plain": [
              "['FastballWhiffModel.joblib']"
            ]
          },
          "metadata": {},
          "execution_count": 91
        }
      ]
    },
    {
      "cell_type": "markdown",
      "source": [
        "## Making Breaking Ball Model"
      ],
      "metadata": {
        "id": "4xMiNHlKZNjo"
      }
    },
    {
      "cell_type": "code",
      "source": [
        "breaking_minority_class = finalBreaking[finalBreaking['isWhiff'] == 1]\n",
        "breaking_majority_class = finalBreaking[finalBreaking['isWhiff'] == 0]\n",
        "\n",
        "print(\"majority class is: \" + str(len(breaking_majority_class)) + \" (\" + str(100*len(breaking_majority_class)/(len(breaking_majority_class)+len(breaking_minority_class))) + \")\")\n",
        "print(\"minority class is: \" + str(len(breaking_minority_class)) + \" (\" + str(100*len(breaking_minority_class)/(len(breaking_majority_class)+len(breaking_minority_class))) + \")\")\n",
        "\n",
        "print(\"total is: \" + str(len(breaking_majority_class)+len(breaking_minority_class)))"
      ],
      "metadata": {
        "colab": {
          "base_uri": "https://localhost:8080/"
        },
        "outputId": "45a01f58-7a1c-49b6-b172-2c93b8701226",
        "id": "8KDXcceGZSPN"
      },
      "execution_count": null,
      "outputs": [
        {
          "output_type": "stream",
          "name": "stdout",
          "text": [
            "majority class is: 154299 (66.81461530467315)\n",
            "minority class is: 76637 (33.185384695326846)\n",
            "total is: 230936\n"
          ]
        }
      ]
    },
    {
      "cell_type": "code",
      "execution_count": null,
      "metadata": {
        "id": "lhyYGhPFZSPO"
      },
      "outputs": [],
      "source": [
        "# resamples the class\n",
        "from sklearn.utils import resample\n",
        "majority_class_downsampled = resample(breaking_majority_class,\n",
        "                                      replace=False,  # sample without replacement\n",
        "                                      n_samples=len(breaking_minority_class)*2,  # match minority class size\n",
        "                                      #n_samples = 390000,\n",
        "                                      random_state=42)  # reproducible results\n",
        "minority_class_upsampled = resample(breaking_minority_class,\n",
        "                                      replace=True,  # sample without replacement\n",
        "                                      n_samples=int(len(breaking_minority_class)*1.1),  # match minority class size\n",
        "                                      #n_samples = 390000,\n",
        "                                      random_state=42)  # reproducible results\n",
        "\n",
        "# Combine minority class and downsampled majority class\n",
        "balanced_df = pd.concat([minority_class_upsampled, majority_class_downsampled])\n",
        "\n",
        "\n"
      ]
    },
    {
      "cell_type": "code",
      "execution_count": null,
      "metadata": {
        "id": "PXxWrnHoZSPO"
      },
      "outputs": [],
      "source": [
        "# Shuffle the data to avoid order effects\n",
        "# figure why this don't work\n",
        "balanced_df = balanced_df.sample(frac=1, random_state=42)\n"
      ]
    },
    {
      "cell_type": "code",
      "execution_count": null,
      "metadata": {
        "id": "iIYQkoPQZSPO"
      },
      "outputs": [],
      "source": [
        "rel_data = balanced_df[['isWhiff', 'PitchBucket', 'PitcherHand', 'RelSpeed', 'SpinRate', 'InducedVertBreak', 'HorzBreak', 'SpinAxis', 'RelHeight', 'RelSide', 'Extension', 'SpeedDrop', 'pfxz', 'VertApprAngle', 'HorzApprAngle']].to_numpy()\n",
        "\n",
        "\n",
        "classification = balanced_df['isWhiff'].to_numpy()"
      ]
    },
    {
      "cell_type": "code",
      "execution_count": null,
      "metadata": {
        "colab": {
          "base_uri": "https://localhost:8080/"
        },
        "outputId": "27d3d2cb-7120-4cc7-8eb4-24b49fc16ae5",
        "id": "IFNIXxL7ZSPO"
      },
      "outputs": [
        {
          "output_type": "stream",
          "name": "stdout",
          "text": [
            "majority class is: 153274\n",
            "minority class is: 84300\n",
            "total is: 237574\n"
          ]
        }
      ],
      "source": [
        "minority = balanced_df[balanced_df['isWhiff'] == 1]\n",
        "majority = balanced_df[balanced_df['isWhiff'] != 1]\n",
        "\n",
        "print(\"majority class is: \" + str(len(majority)))\n",
        "print(\"minority class is: \" + str(len(minority)))\n",
        "\n",
        "print(\"total is: \" + str(len(majority)+len(minority)))\n",
        "\n",
        "sampledTotal = len(majority) + len(minority)\n",
        "trainTotal = int(0.8*sampledTotal)"
      ]
    },
    {
      "cell_type": "code",
      "execution_count": null,
      "metadata": {
        "id": "spEnQOAdZSPO"
      },
      "outputs": [],
      "source": [
        "# Split data into features and target\n",
        "X = balanced_df.drop(['isWhiff'], axis=1)\n",
        "y = balanced_df['isWhiff']\n",
        "# x = np.unique(classification, return_inverse=True)\n",
        "# y = np.unique(classification, return_inverse=True)\n",
        "\n",
        "# Split data into training and testing sets\n",
        "x_train = X[:trainTotal]\n",
        "x_test = X[trainTotal:]\n",
        "y_train = y[:trainTotal]\n",
        "y_test = y[trainTotal:]\n",
        "\n",
        "from sklearn import preprocessing\n",
        "\n",
        "# Standardize the features\n",
        "scaler = preprocessing.StandardScaler().fit(x_train)\n",
        "x_train_scaled = scaler.transform(x_train)\n",
        "x_test_scaled = scaler.transform(x_test)"
      ]
    },
    {
      "cell_type": "markdown",
      "source": [
        "### Making Breaking Model"
      ],
      "metadata": {
        "id": "QRS7fR7hZSPO"
      }
    },
    {
      "cell_type": "code",
      "execution_count": null,
      "metadata": {
        "id": "nAcR30NwZSPO"
      },
      "outputs": [],
      "source": [
        "from sklearn import metrics\n",
        "import seaborn as sns\n",
        "import matplotlib.pyplot as plt\n",
        "from matplotlib.colors import ListedColormap\n",
        "from sklearn.model_selection import train_test_split\n",
        "from sklearn.preprocessing import StandardScaler\n",
        "from sklearn.pipeline import make_pipeline\n",
        "from sklearn.datasets import make_moons, make_circles, make_classification\n",
        "from sklearn.tree import DecisionTreeClassifier\n",
        "from sklearn.ensemble import RandomForestClassifier, AdaBoostClassifier\n",
        "from numpy import loadtxt\n",
        "from xgboost import XGBClassifier\n",
        "# !pip install -U xgboost\n",
        "\n",
        "names = [\n",
        "    \"Decision Tree\",\n",
        "    \"Random Forest\",\n",
        "    \"XGBoost\"\n",
        "]\n",
        "\n",
        "classifiers = [\n",
        "    # DecisionTreeClassifier(max_depth=50),\n",
        "    #DecisionTreeClassifier(max_depth=5),\n",
        "    # XGBClassifier(device='gpu', eta=100),\n",
        "    RandomForestClassifier(max_depth=None, n_estimators=100)\n",
        "]"
      ]
    },
    {
      "cell_type": "code",
      "execution_count": null,
      "metadata": {
        "colab": {
          "base_uri": "https://localhost:8080/"
        },
        "id": "uupD4hLGZSPO",
        "outputId": "9a527171-e309-47cf-aa64-fdf81bd3b902"
      },
      "outputs": [
        {
          "output_type": "stream",
          "name": "stdout",
          "text": [
            "0.8769230769230769\n"
          ]
        }
      ],
      "source": [
        "accuracies = []\n",
        "for opt in classifiers:\n",
        "  clf = make_pipeline(StandardScaler(), opt)\n",
        "  clf.fit(x_train, y_train)\n",
        "\n",
        "  y_pred = clf.predict((x_test))\n",
        "  print(metrics.accuracy_score(y_test, y_pred))\n",
        "  accuracies.append(metrics.accuracy_score(y_test, y_pred))\n"
      ]
    },
    {
      "cell_type": "code",
      "execution_count": null,
      "metadata": {
        "colab": {
          "base_uri": "https://localhost:8080/"
        },
        "outputId": "cd831acc-553a-4ed7-bc8b-5f6d15ab925c",
        "id": "RjM45UKLZSPP"
      },
      "outputs": [
        {
          "output_type": "stream",
          "name": "stdout",
          "text": [
            "              precision    recall  f1-score   support\n",
            "\n",
            "           0       0.88      0.94      0.91     30666\n",
            "           1       0.87      0.76      0.81     16849\n",
            "\n",
            "    accuracy                           0.88     47515\n",
            "   macro avg       0.88      0.85      0.86     47515\n",
            "weighted avg       0.88      0.88      0.87     47515\n",
            "\n"
          ]
        }
      ],
      "source": [
        "from sklearn.metrics import classification_report\n",
        "target_names = ['not Whiff, yes Whiff']\n",
        "print(classification_report(y_test, y_pred))"
      ]
    },
    {
      "cell_type": "code",
      "execution_count": null,
      "metadata": {
        "colab": {
          "base_uri": "https://localhost:8080/"
        },
        "outputId": "d3f08a20-9aa5-4b5a-fede-67f5ad161d35",
        "id": "QuQq9V8-ZSPP"
      },
      "outputs": [
        {
          "output_type": "stream",
          "name": "stdout",
          "text": [
            "[0.8755550878669893, 0.8770493528359465, 0.8755550878669893, 0.8773860886035989]\n"
          ]
        }
      ],
      "source": [
        "print(accuracies)"
      ]
    },
    {
      "cell_type": "code",
      "source": [
        "print(accuracies)"
      ],
      "metadata": {
        "colab": {
          "base_uri": "https://localhost:8080/"
        },
        "outputId": "41ddc849-e877-46ea-f607-228172b103de",
        "id": "ZVzNARFiZSPP"
      },
      "execution_count": null,
      "outputs": [
        {
          "output_type": "stream",
          "name": "stdout",
          "text": [
            "[0.8769230769230769]\n"
          ]
        }
      ]
    },
    {
      "cell_type": "markdown",
      "source": [
        "### Export Breaking Model"
      ],
      "metadata": {
        "id": "ggR15ehvZSPP"
      }
    },
    {
      "cell_type": "code",
      "source": [
        "import joblib\n",
        "from joblib import dump\n",
        "\n",
        "import os\n",
        "os.chdir('/content/drive/Shareddrives/USC Baseball/ML Stuff/SabermetricModels/Stuff+')\n",
        "\n",
        "# export the trained model to disk\n",
        "joblib.dump(clf, 'BreakingWhiffModel.joblib')"
      ],
      "metadata": {
        "colab": {
          "base_uri": "https://localhost:8080/"
        },
        "outputId": "2ad76d6b-605b-4a8f-e260-0b32620416df",
        "id": "k5H_MnRuZSPP"
      },
      "execution_count": null,
      "outputs": [
        {
          "output_type": "execute_result",
          "data": {
            "text/plain": [
              "['BreakingWhiffModel.joblib']"
            ]
          },
          "metadata": {},
          "execution_count": 115
        }
      ]
    },
    {
      "cell_type": "code",
      "source": [],
      "metadata": {
        "id": "bVEjy3MofL-K"
      },
      "execution_count": null,
      "outputs": []
    },
    {
      "cell_type": "code",
      "source": [],
      "metadata": {
        "id": "Q8r5ynCqfRUI"
      },
      "execution_count": null,
      "outputs": []
    },
    {
      "cell_type": "markdown",
      "source": [
        "## Making Offspeed Model"
      ],
      "metadata": {
        "id": "LkWhOFgGfSdU"
      }
    },
    {
      "cell_type": "code",
      "source": [
        "offspeed_minority_class = finalOffspeed[finalOffspeed['isWhiff'] == 1]\n",
        "offspeed_majority_class = finalOffspeed[finalOffspeed['isWhiff'] == 0]\n",
        "\n",
        "print(\"majority class is: \" + str(len(offspeed_majority_class)) + \" (\" + str(100*len(offspeed_majority_class)/(len(offspeed_majority_class)+len(offspeed_minority_class))) + \")\")\n",
        "print(\"minority class is: \" + str(len(offspeed_minority_class)) + \" (\" + str(100*len(offspeed_minority_class)/(len(offspeed_majority_class)+len(offspeed_minority_class))) + \")\")\n",
        "\n",
        "print(\"total is: \" + str(len(offspeed_majority_class)+len(offspeed_minority_class)))"
      ],
      "metadata": {
        "colab": {
          "base_uri": "https://localhost:8080/"
        },
        "outputId": "6beb9c19-cfdc-400e-ce0e-2e05cf1a30f8",
        "id": "KmNgdr_XfSdf"
      },
      "execution_count": null,
      "outputs": [
        {
          "output_type": "stream",
          "name": "stdout",
          "text": [
            "majority class is: 65308 (66.55524529686322)\n",
            "minority class is: 32818 (33.44475470313678)\n",
            "total is: 98126\n"
          ]
        }
      ]
    },
    {
      "cell_type": "code",
      "execution_count": null,
      "metadata": {
        "id": "OXinkhaafSdf"
      },
      "outputs": [],
      "source": [
        "# resamples the class\n",
        "from sklearn.utils import resample\n",
        "majority_class_downsampled = resample(offspeed_majority_class,\n",
        "                                      replace=False,  # sample without replacement\n",
        "                                      n_samples=int(len(offspeed_minority_class)*1.9),  # match minority class size\n",
        "                                      #n_samples = 390000,\n",
        "                                      random_state=42)  # reproducible results\n",
        "minority_class_upsampled = resample(offspeed_minority_class,\n",
        "                                      replace=True,  # sample without replacement\n",
        "                                      n_samples=int(len(offspeed_minority_class)*1.1),  # match minority class size\n",
        "                                      #n_samples = 390000,\n",
        "                                      random_state=42)  # reproducible results\n",
        "\n",
        "# Combine minority class and downsampled majority class\n",
        "offspeed_balanced_df = pd.concat([minority_class_upsampled, majority_class_downsampled])\n",
        "\n",
        "\n"
      ]
    },
    {
      "cell_type": "code",
      "execution_count": null,
      "metadata": {
        "id": "wvqNRyX8fSdf"
      },
      "outputs": [],
      "source": [
        "# Shuffle the data to avoid order effects\n",
        "# figure why this don't work\n",
        "offspeed_balanced_df = offspeed_balanced_df.sample(frac=1, random_state=42)\n"
      ]
    },
    {
      "cell_type": "code",
      "execution_count": null,
      "metadata": {
        "id": "Rzoo633XfSdf"
      },
      "outputs": [],
      "source": [
        "rel_data = offspeed_balanced_df[['isWhiff', 'PitchBucket', 'PitcherHand', 'RelSpeed', 'SpinRate', 'InducedVertBreak', 'HorzBreak', 'SpinAxis', 'RelHeight', 'RelSide', 'Extension', 'SpeedDrop', 'pfxz', 'VertApprAngle', 'HorzApprAngle']].to_numpy()\n",
        "classification = offspeed_balanced_df['isWhiff'].to_numpy()"
      ]
    },
    {
      "cell_type": "code",
      "execution_count": null,
      "metadata": {
        "colab": {
          "base_uri": "https://localhost:8080/"
        },
        "outputId": "a864d6f4-38c8-4f30-a6a4-90515fa64454",
        "id": "Q3V-zLhYfSdf"
      },
      "outputs": [
        {
          "output_type": "stream",
          "name": "stdout",
          "text": [
            "majority class is: 62354\n",
            "minority class is: 36099\n",
            "total is: 98453\n"
          ]
        }
      ],
      "source": [
        "minority = offspeed_balanced_df[offspeed_balanced_df['isWhiff'] == 1]\n",
        "majority = offspeed_balanced_df[offspeed_balanced_df['isWhiff'] != 1]\n",
        "\n",
        "print(\"majority class is: \" + str(len(majority)))\n",
        "print(\"minority class is: \" + str(len(minority)))\n",
        "\n",
        "print(\"total is: \" + str(len(majority)+len(minority)))\n",
        "\n",
        "sampledTotal = len(majority) + len(minority)\n",
        "trainTotal = int(0.8*sampledTotal)"
      ]
    },
    {
      "cell_type": "code",
      "execution_count": null,
      "metadata": {
        "id": "DP6kCAoUfSdf"
      },
      "outputs": [],
      "source": [
        "# Split data into features and target\n",
        "X = offspeed_balanced_df.drop(['isWhiff'], axis=1)\n",
        "y = offspeed_balanced_df['isWhiff']\n",
        "# x = np.unique(classification, return_inverse=True)\n",
        "# y = np.unique(classification, return_inverse=True)\n",
        "\n",
        "# Split data into training and testing sets\n",
        "x_train = X[:trainTotal]\n",
        "x_test = X[trainTotal:]\n",
        "y_train = y[:trainTotal]\n",
        "y_test = y[trainTotal:]\n",
        "\n",
        "from sklearn import preprocessing\n",
        "\n",
        "# Standardize the features\n",
        "scaler = preprocessing.StandardScaler().fit(x_train)\n",
        "x_train_scaled = scaler.transform(x_train)\n",
        "x_test_scaled = scaler.transform(x_test)"
      ]
    },
    {
      "cell_type": "markdown",
      "source": [
        "### Building Offspeed Model"
      ],
      "metadata": {
        "id": "gddrZKwEfSdf"
      }
    },
    {
      "cell_type": "code",
      "execution_count": null,
      "metadata": {
        "id": "mR2WjENjfSdg"
      },
      "outputs": [],
      "source": [
        "from sklearn import metrics\n",
        "import seaborn as sns\n",
        "import matplotlib.pyplot as plt\n",
        "from matplotlib.colors import ListedColormap\n",
        "from sklearn.model_selection import train_test_split\n",
        "from sklearn.preprocessing import StandardScaler\n",
        "from sklearn.pipeline import make_pipeline\n",
        "from sklearn.datasets import make_moons, make_circles, make_classification\n",
        "from sklearn.tree import DecisionTreeClassifier\n",
        "from sklearn.ensemble import RandomForestClassifier, AdaBoostClassifier\n",
        "from numpy import loadtxt\n",
        "from xgboost import XGBClassifier\n",
        "# !pip install -U xgboost\n",
        "\n",
        "names = [\n",
        "    \"Decision Tree\",\n",
        "    \"Random Forest\",\n",
        "    \"XGBoost\"\n",
        "]\n",
        "\n",
        "classifiers = [\n",
        "    # DecisionTreeClassifier(max_depth=50),\n",
        "    #DecisionTreeClassifier(max_depth=5),\n",
        "    # XGBClassifier(device='gpu', eta=100),\n",
        "    RandomForestClassifier(max_depth=None, n_estimators=100)\n",
        "]"
      ]
    },
    {
      "cell_type": "code",
      "execution_count": null,
      "metadata": {
        "colab": {
          "base_uri": "https://localhost:8080/"
        },
        "outputId": "d095db52-e706-48ab-f5a1-e8fe041c51d7",
        "id": "dSkmEdrvfSdg"
      },
      "outputs": [
        {
          "output_type": "stream",
          "name": "stdout",
          "text": [
            "0.8483571174648317\n"
          ]
        }
      ],
      "source": [
        "accuracies = []\n",
        "for opt in classifiers:\n",
        "  clf = make_pipeline(StandardScaler(), opt)\n",
        "  clf.fit(x_train, y_train)\n",
        "\n",
        "  y_pred = clf.predict((x_test))\n",
        "  print(metrics.accuracy_score(y_test, y_pred))\n",
        "  accuracies.append(metrics.accuracy_score(y_test, y_pred))\n"
      ]
    },
    {
      "cell_type": "code",
      "execution_count": null,
      "metadata": {
        "colab": {
          "base_uri": "https://localhost:8080/"
        },
        "outputId": "f0ce4247-908d-40ce-b150-1adc95da3509",
        "id": "j5XNH5K5fSdg"
      },
      "outputs": [
        {
          "output_type": "stream",
          "name": "stdout",
          "text": [
            "              precision    recall  f1-score   support\n",
            "\n",
            "           0       0.85      0.93      0.88     12365\n",
            "           1       0.85      0.71      0.78      7326\n",
            "\n",
            "    accuracy                           0.85     19691\n",
            "   macro avg       0.85      0.82      0.83     19691\n",
            "weighted avg       0.85      0.85      0.84     19691\n",
            "\n"
          ]
        }
      ],
      "source": [
        "from sklearn.metrics import classification_report\n",
        "target_names = ['not Whiff, yes Whiff']\n",
        "print(classification_report(y_test, y_pred))"
      ]
    },
    {
      "cell_type": "code",
      "execution_count": null,
      "metadata": {
        "colab": {
          "base_uri": "https://localhost:8080/"
        },
        "outputId": "d3f08a20-9aa5-4b5a-fede-67f5ad161d35",
        "id": "qyk-_9rBfSdg"
      },
      "outputs": [
        {
          "output_type": "stream",
          "name": "stdout",
          "text": [
            "[0.8755550878669893, 0.8770493528359465, 0.8755550878669893, 0.8773860886035989]\n"
          ]
        }
      ],
      "source": [
        "print(accuracies)"
      ]
    },
    {
      "cell_type": "code",
      "source": [
        "print(accuracies)"
      ],
      "metadata": {
        "colab": {
          "base_uri": "https://localhost:8080/"
        },
        "outputId": "83da09cd-8a56-41ee-d254-266457b0cb43",
        "id": "z48ff9-WfSdg"
      },
      "execution_count": null,
      "outputs": [
        {
          "output_type": "stream",
          "name": "stdout",
          "text": [
            "[0.8483571174648317]\n"
          ]
        }
      ]
    },
    {
      "cell_type": "markdown",
      "source": [
        "### Export Breaking Model"
      ],
      "metadata": {
        "id": "pTvsbNCLfSdg"
      }
    },
    {
      "cell_type": "code",
      "source": [
        "import joblib\n",
        "from joblib import dump\n",
        "\n",
        "import os\n",
        "os.chdir('/content/drive/Shareddrives/USC Baseball/ML Stuff/SabermetricModels/Stuff+')\n",
        "\n",
        "# export the trained model to disk\n",
        "joblib.dump(clf, 'OffspeedWhiffModel.joblib')"
      ],
      "metadata": {
        "colab": {
          "base_uri": "https://localhost:8080/"
        },
        "outputId": "90e8ae5c-b719-454a-a0f7-c8d8400629f5",
        "id": "rxHdWnkDfSdg"
      },
      "execution_count": null,
      "outputs": [
        {
          "output_type": "execute_result",
          "data": {
            "text/plain": [
              "['OffspeedWhiffModel.joblib']"
            ]
          },
          "metadata": {},
          "execution_count": 133
        }
      ]
    },
    {
      "cell_type": "code",
      "source": [],
      "metadata": {
        "id": "vs9ucgAhfSdg"
      },
      "execution_count": null,
      "outputs": []
    }
  ]
}